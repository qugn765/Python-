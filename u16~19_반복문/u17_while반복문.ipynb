{
  "nbformat": 4,
  "nbformat_minor": 0,
  "metadata": {
    "colab": {
      "name": "u17_while반복문.ipynb",
      "provenance": [],
      "collapsed_sections": []
    },
    "kernelspec": {
      "name": "python3",
      "display_name": "Python 3"
    },
    "language_info": {
      "name": "python"
    }
  },
  "cells": [
    {
      "cell_type": "markdown",
      "metadata": {
        "id": "2zVLSwr30nv1"
      },
      "source": [
        "#Unit 17. while 반복문"
      ]
    },
    {
      "cell_type": "markdown",
      "metadata": {
        "id": "IWKZyGGj0xLR"
      },
      "source": [
        "## 17.1 while 반복문\n",
        "- 반복횟수가 정해져 있는 반복문은 while을 쓰지 않는다."
      ]
    },
    {
      "cell_type": "markdown",
      "metadata": {
        "id": "pEzQrrGE01U6"
      },
      "source": [
        "## 17.2 반복 횟수가 없는 while 반복문"
      ]
    },
    {
      "cell_type": "code",
      "metadata": {
        "id": "mqswEAiX0m2M"
      },
      "source": [
        "import random"
      ],
      "execution_count": 1,
      "outputs": []
    },
    {
      "cell_type": "code",
      "metadata": {
        "colab": {
          "base_uri": "https://localhost:8080/"
        },
        "id": "zxjkyi-g063J",
        "outputId": "152a351b-6848-4d24-be38-7da6f3d96144"
      },
      "source": [
        "random.random()"
      ],
      "execution_count": 2,
      "outputs": [
        {
          "output_type": "execute_result",
          "data": {
            "text/plain": [
              "0.5629121010899675"
            ]
          },
          "metadata": {
            "tags": []
          },
          "execution_count": 2
        }
      ]
    },
    {
      "cell_type": "code",
      "metadata": {
        "colab": {
          "base_uri": "https://localhost:8080/"
        },
        "id": "LdKWxghX08dr",
        "outputId": "77e5bdc4-dfc5-497a-c3d5-682bef60be87"
      },
      "source": [
        "random.randint(1, 6)"
      ],
      "execution_count": 3,
      "outputs": [
        {
          "output_type": "execute_result",
          "data": {
            "text/plain": [
              "2"
            ]
          },
          "metadata": {
            "tags": []
          },
          "execution_count": 3
        }
      ]
    },
    {
      "cell_type": "code",
      "metadata": {
        "colab": {
          "base_uri": "https://localhost:8080/"
        },
        "id": "Bm-shRaa09-d",
        "outputId": "4c6f0496-bee2-46f6-c977-75adddbcd2b3"
      },
      "source": [
        "i = 0\n",
        "while i != 3:\n",
        "    i = random.randint(1,6)\n",
        "    print(i)"
      ],
      "execution_count": 8,
      "outputs": [
        {
          "output_type": "stream",
          "text": [
            "1\n",
            "1\n",
            "4\n",
            "4\n",
            "4\n",
            "3\n"
          ],
          "name": "stdout"
        }
      ]
    },
    {
      "cell_type": "code",
      "metadata": {
        "colab": {
          "base_uri": "https://localhost:8080/"
        },
        "id": "6AiixXZY0_Ur",
        "outputId": "a13c1076-c548-439f-e99a-3c0d6d4c7078"
      },
      "source": [
        "i = 0\n",
        "dice = [1,2,3,4,5,6]\n",
        "while i != 3:\n",
        "    i = random.choice(dice)\n",
        "    print(i)"
      ],
      "execution_count": 6,
      "outputs": [
        {
          "output_type": "stream",
          "text": [
            "6\n",
            "2\n",
            "6\n",
            "2\n",
            "3\n"
          ],
          "name": "stdout"
        }
      ]
    },
    {
      "cell_type": "code",
      "metadata": {
        "colab": {
          "base_uri": "https://localhost:8080/"
        },
        "id": "jLhBlQBN1B83",
        "outputId": "c6a9846b-c746-4302-d722-0d20e48ad940"
      },
      "source": [
        "random.sample(dice, 6)"
      ],
      "execution_count": 9,
      "outputs": [
        {
          "output_type": "execute_result",
          "data": {
            "text/plain": [
              "[3, 6, 5, 2, 4, 1]"
            ]
          },
          "metadata": {
            "tags": []
          },
          "execution_count": 9
        }
      ]
    },
    {
      "cell_type": "code",
      "metadata": {
        "id": "UjQwtFk_1HH0"
      },
      "source": [
        ""
      ],
      "execution_count": null,
      "outputs": []
    }
  ]
}