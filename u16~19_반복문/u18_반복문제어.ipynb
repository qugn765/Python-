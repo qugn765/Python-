{
  "nbformat": 4,
  "nbformat_minor": 0,
  "metadata": {
    "colab": {
      "name": "u18_반복문제어.ipynb",
      "provenance": [],
      "collapsed_sections": []
    },
    "kernelspec": {
      "name": "python3",
      "display_name": "Python 3"
    },
    "language_info": {
      "name": "python"
    }
  },
  "cells": [
    {
      "cell_type": "markdown",
      "metadata": {
        "id": "JmjzefMo1QXu"
      },
      "source": [
        "#Unit 18. break, continue"
      ]
    },
    {
      "cell_type": "markdown",
      "metadata": {
        "id": "PaMqj6Qo1S2T"
      },
      "source": [
        "##  18.1 break"
      ]
    },
    {
      "cell_type": "code",
      "metadata": {
        "id": "xTFGZWrH1MAY"
      },
      "source": [
        "import random"
      ],
      "execution_count": 1,
      "outputs": []
    },
    {
      "cell_type": "code",
      "metadata": {
        "colab": {
          "base_uri": "https://localhost:8080/"
        },
        "id": "j0UB7Jf41XSG",
        "outputId": "d52e0538-2c1b-4c86-b492-bd6b566e57d8"
      },
      "source": [
        "while True:\n",
        "    i = random.randint(1,6)\n",
        "    print(i)\n",
        "    if i == 3:\n",
        "        break"
      ],
      "execution_count": 2,
      "outputs": [
        {
          "output_type": "stream",
          "text": [
            "5\n",
            "4\n",
            "5\n",
            "2\n",
            "1\n",
            "6\n",
            "2\n",
            "6\n",
            "5\n",
            "4\n",
            "3\n"
          ],
          "name": "stdout"
        }
      ]
    },
    {
      "cell_type": "code",
      "metadata": {
        "colab": {
          "base_uri": "https://localhost:8080/"
        },
        "id": "2UkxYZSa1ZAc",
        "outputId": "d39cda8f-c737-46e6-f332-c2974b2329f4"
      },
      "source": [
        "for i in range(5):\n",
        "    print(i, end=' ')\n",
        "    for k in range(5):\n",
        "        print('*', end='')\n",
        "        if i==k:\n",
        "            break\n",
        "    print()\n"
      ],
      "execution_count": 3,
      "outputs": [
        {
          "output_type": "stream",
          "text": [
            "0 *\n",
            "1 **\n",
            "2 ***\n",
            "3 ****\n",
            "4 *****\n"
          ],
          "name": "stdout"
        }
      ]
    },
    {
      "cell_type": "markdown",
      "metadata": {
        "id": "aNEtZBtE1e9T"
      },
      "source": [
        "##18.2 continue"
      ]
    },
    {
      "cell_type": "code",
      "metadata": {
        "colab": {
          "base_uri": "https://localhost:8080/"
        },
        "id": "KEKk_BGi1bMK",
        "outputId": "f634ec26-fa5b-4012-c832-5a970315161a"
      },
      "source": [
        "for i in range(10):\n",
        "    if i % 2 == 0:\n",
        "        continue\n",
        "    print(i)"
      ],
      "execution_count": 4,
      "outputs": [
        {
          "output_type": "stream",
          "text": [
            "1\n",
            "3\n",
            "5\n",
            "7\n",
            "9\n"
          ],
          "name": "stdout"
        }
      ]
    },
    {
      "cell_type": "code",
      "metadata": {
        "id": "XUwRC3zI1ebs"
      },
      "source": [
        ""
      ],
      "execution_count": null,
      "outputs": []
    }
  ]
}