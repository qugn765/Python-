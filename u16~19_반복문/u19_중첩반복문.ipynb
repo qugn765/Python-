{
  "nbformat": 4,
  "nbformat_minor": 0,
  "metadata": {
    "colab": {
      "name": "u19_중첩반복문.ipynb",
      "provenance": [],
      "collapsed_sections": []
    },
    "kernelspec": {
      "name": "python3",
      "display_name": "Python 3"
    },
    "language_info": {
      "name": "python"
    }
  },
  "cells": [
    {
      "cell_type": "markdown",
      "metadata": {
        "id": "gvGfUq261qrV"
      },
      "source": [
        "# Unit 19. 중첩 반복문"
      ]
    },
    {
      "cell_type": "markdown",
      "metadata": {
        "id": "SvF9zFiQ1uBN"
      },
      "source": [
        "## 19.1 중첩(Nested) for loop"
      ]
    },
    {
      "cell_type": "code",
      "metadata": {
        "colab": {
          "base_uri": "https://localhost:8080/"
        },
        "id": "VlBmCu4w1k86",
        "outputId": "be582495-52ca-4b37-f2a0-e0f173a5d602"
      },
      "source": [
        "for i in range(1, 6):\n",
        "    for k in range(10, 60, 10):\n",
        "        print(k, end=' ')\n",
        "    print(i)"
      ],
      "execution_count": 1,
      "outputs": [
        {
          "output_type": "stream",
          "text": [
            "10 20 30 40 50 1\n",
            "10 20 30 40 50 2\n",
            "10 20 30 40 50 3\n",
            "10 20 30 40 50 4\n",
            "10 20 30 40 50 5\n"
          ],
          "name": "stdout"
        }
      ]
    },
    {
      "cell_type": "markdown",
      "metadata": {
        "id": "HpT4OQT616Fu"
      },
      "source": [
        "##  19.2 별 사각형"
      ]
    },
    {
      "cell_type": "code",
      "metadata": {
        "colab": {
          "base_uri": "https://localhost:8080/"
        },
        "id": "YKSLCIuz1x-C",
        "outputId": "30dd04e7-dce2-4aa5-f448-dcd7a1e9b46e"
      },
      "source": [
        "for i in range(5):\n",
        "    for _ in range(5):\n",
        "        print('*', end='')\n",
        "    print()"
      ],
      "execution_count": 2,
      "outputs": [
        {
          "output_type": "stream",
          "text": [
            "*****\n",
            "*****\n",
            "*****\n",
            "*****\n",
            "*****\n"
          ],
          "name": "stdout"
        }
      ]
    },
    {
      "cell_type": "code",
      "metadata": {
        "colab": {
          "base_uri": "https://localhost:8080/"
        },
        "id": "1zASOusm18l_",
        "outputId": "f13265a4-d357-46e8-f5fd-c643276656fd"
      },
      "source": [
        "# 평행사변형\n",
        "for i in range(4):\n",
        "    for _ in range(0, i):\n",
        "        print(' ', end='')\n",
        "    for _ in range(5):\n",
        "        print('*', end='')\n",
        "    print()"
      ],
      "execution_count": 3,
      "outputs": [
        {
          "output_type": "stream",
          "text": [
            "*****\n",
            " *****\n",
            "  *****\n",
            "   *****\n"
          ],
          "name": "stdout"
        }
      ]
    },
    {
      "cell_type": "code",
      "metadata": {
        "id": "pCEQa1oy195r"
      },
      "source": [
        "for i in range(0, 0):\n",
        "    print('*')"
      ],
      "execution_count": 4,
      "outputs": []
    },
    {
      "cell_type": "code",
      "metadata": {
        "colab": {
          "base_uri": "https://localhost:8080/"
        },
        "id": "G34Y7KGn1_bG",
        "outputId": "43696cb4-1dcc-4854-fc3c-5e89a69130de"
      },
      "source": [
        "for i in range(4):\n",
        "    print(' '*i, '*'*5, sep='')"
      ],
      "execution_count": 6,
      "outputs": [
        {
          "output_type": "stream",
          "text": [
            "*****\n",
            " *****\n",
            "  *****\n",
            "   *****\n"
          ],
          "name": "stdout"
        }
      ]
    },
    {
      "cell_type": "markdown",
      "metadata": {
        "id": "K1I6gErb2EBC"
      },
      "source": [
        "##  19.3 계단식 별 모양"
      ]
    },
    {
      "cell_type": "code",
      "metadata": {
        "colab": {
          "base_uri": "https://localhost:8080/"
        },
        "id": "gclUPR6E2A7X",
        "outputId": "f70af31b-2379-45b6-8dcf-0671e5ec944f"
      },
      "source": [
        "for i in range(5):\n",
        "    for _ in range(i+1):\n",
        "        print('*', end='')\n",
        "    print()"
      ],
      "execution_count": 7,
      "outputs": [
        {
          "output_type": "stream",
          "text": [
            "*\n",
            "**\n",
            "***\n",
            "****\n",
            "*****\n"
          ],
          "name": "stdout"
        }
      ]
    },
    {
      "cell_type": "code",
      "metadata": {
        "colab": {
          "base_uri": "https://localhost:8080/"
        },
        "id": "RhdSiqUX2Ggf",
        "outputId": "dd8add49-4acd-4e92-ed00-d13c59db75ea"
      },
      "source": [
        "for i in range(5):\n",
        "    print('*' * (i+1))"
      ],
      "execution_count": 8,
      "outputs": [
        {
          "output_type": "stream",
          "text": [
            "*\n",
            "**\n",
            "***\n",
            "****\n",
            "*****\n"
          ],
          "name": "stdout"
        }
      ]
    },
    {
      "cell_type": "code",
      "metadata": {
        "colab": {
          "base_uri": "https://localhost:8080/"
        },
        "id": "numD-L3I2H_E",
        "outputId": "d92a8d96-5dbd-4558-8ee8-2f30f2fa8629"
      },
      "source": [
        "for i in range(5):\n",
        "    for _ in range(i):\n",
        "        print(' ', end='')\n",
        "    for _ in range(5-i):\n",
        "        print('*', end='')\n",
        "    print()"
      ],
      "execution_count": 9,
      "outputs": [
        {
          "output_type": "stream",
          "text": [
            "*****\n",
            " ****\n",
            "  ***\n",
            "   **\n",
            "    *\n"
          ],
          "name": "stdout"
        }
      ]
    },
    {
      "cell_type": "code",
      "metadata": {
        "colab": {
          "base_uri": "https://localhost:8080/"
        },
        "id": "JVctxwPK2JV_",
        "outputId": "99c4191e-4382-42e9-f726-25ad80c19d1f"
      },
      "source": [
        "for i in range(5):\n",
        "    print(' '*i, '*'*(5-i), sep='')"
      ],
      "execution_count": 10,
      "outputs": [
        {
          "output_type": "stream",
          "text": [
            "*****\n",
            " ****\n",
            "  ***\n",
            "   **\n",
            "    *\n"
          ],
          "name": "stdout"
        }
      ]
    },
    {
      "cell_type": "markdown",
      "metadata": {
        "id": "tt07MOwm2Mvq"
      },
      "source": [
        "### Diamond 그리기"
      ]
    },
    {
      "cell_type": "code",
      "metadata": {
        "colab": {
          "base_uri": "https://localhost:8080/"
        },
        "id": "9agcRESD2K4G",
        "outputId": "399ad5b6-375e-4f98-8690-049c2d678ef9"
      },
      "source": [
        "\n",
        "for i in range(5):\n",
        "    for _ in range(4-i):\n",
        "        print(' ', end='')\n",
        "    for _ in range(2*i+1):\n",
        "        print('*', end='')\n",
        "    print()\n",
        "for i in range(4):\n",
        "    for _ in range(i+1):\n",
        "        print(' ', end='')\n",
        "    for _ in range(7-2*i):\n",
        "        print('*', end='')\n",
        "    print()"
      ],
      "execution_count": 11,
      "outputs": [
        {
          "output_type": "stream",
          "text": [
            "    *\n",
            "   ***\n",
            "  *****\n",
            " *******\n",
            "*********\n",
            " *******\n",
            "  *****\n",
            "   ***\n",
            "    *\n"
          ],
          "name": "stdout"
        }
      ]
    },
    {
      "cell_type": "code",
      "metadata": {
        "colab": {
          "base_uri": "https://localhost:8080/"
        },
        "id": "kmOH1Ngk2O0a",
        "outputId": "7a3fa4ab-e601-41d6-9c54-c0a011ce38ef"
      },
      "source": [
        "for i in range(5):\n",
        "    print(' '*(4-i), '*'*(2*i+1), sep='')\n",
        "for i in range(4):\n",
        "    print(' '*(i+1), '*'*(7-2*i), sep='')"
      ],
      "execution_count": 13,
      "outputs": [
        {
          "output_type": "stream",
          "text": [
            "    *\n",
            "   ***\n",
            "  *****\n",
            " *******\n",
            "*********\n",
            " *******\n",
            "  *****\n",
            "   ***\n",
            "    *\n"
          ],
          "name": "stdout"
        }
      ]
    },
    {
      "cell_type": "code",
      "metadata": {
        "colab": {
          "base_uri": "https://localhost:8080/"
        },
        "id": "4nNYi5bf2Qro",
        "outputId": "4cefc69e-6d95-4b45-e3c6-90956be5a238"
      },
      "source": [
        "for i in range(-4, 5):\n",
        "    print(' ' * (abs(i)),'*' * (-2*abs(i)+9), sep='')"
      ],
      "execution_count": 14,
      "outputs": [
        {
          "output_type": "stream",
          "text": [
            "    *\n",
            "   ***\n",
            "  *****\n",
            " *******\n",
            "*********\n",
            " *******\n",
            "  *****\n",
            "   ***\n",
            "    *\n"
          ],
          "name": "stdout"
        }
      ]
    },
    {
      "cell_type": "code",
      "metadata": {
        "id": "B-5BczQt2Ty4"
      },
      "source": [
        ""
      ],
      "execution_count": null,
      "outputs": []
    }
  ]
}