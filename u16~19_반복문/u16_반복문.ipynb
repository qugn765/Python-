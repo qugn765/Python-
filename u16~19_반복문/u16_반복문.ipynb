{
  "nbformat": 4,
  "nbformat_minor": 0,
  "metadata": {
    "colab": {
      "name": "u16_반복문.ipynb",
      "provenance": [],
      "collapsed_sections": []
    },
    "kernelspec": {
      "name": "python3",
      "display_name": "Python 3"
    },
    "language_info": {
      "name": "python"
    }
  },
  "cells": [
    {
      "cell_type": "markdown",
      "metadata": {
        "id": "S8PzxhvMzqLm"
      },
      "source": [
        "#Unit 16. for 반복문"
      ]
    },
    {
      "cell_type": "markdown",
      "metadata": {
        "id": "aQ7xCCAYzvUT"
      },
      "source": [
        "## 16.1 for와 range"
      ]
    },
    {
      "cell_type": "code",
      "metadata": {
        "colab": {
          "base_uri": "https://localhost:8080/"
        },
        "id": "fPi_IvZRzkgG",
        "outputId": "438d1c4d-438e-4500-adec-88c2554bdce8"
      },
      "source": [
        "for i in range(10):\n",
        "    print('Hello, world!')"
      ],
      "execution_count": 1,
      "outputs": [
        {
          "output_type": "stream",
          "text": [
            "Hello, world!\n",
            "Hello, world!\n",
            "Hello, world!\n",
            "Hello, world!\n",
            "Hello, world!\n",
            "Hello, world!\n",
            "Hello, world!\n",
            "Hello, world!\n",
            "Hello, world!\n",
            "Hello, world!\n"
          ],
          "name": "stdout"
        }
      ]
    },
    {
      "cell_type": "code",
      "metadata": {
        "colab": {
          "base_uri": "https://localhost:8080/"
        },
        "id": "uTsbIn5tzyn1",
        "outputId": "87e8e26c-a059-4c5a-f4be-1fad59e1ef62"
      },
      "source": [
        "for i in range(10):\n",
        "    print('Hello, world!', i)"
      ],
      "execution_count": 2,
      "outputs": [
        {
          "output_type": "stream",
          "text": [
            "Hello, world! 0\n",
            "Hello, world! 1\n",
            "Hello, world! 2\n",
            "Hello, world! 3\n",
            "Hello, world! 4\n",
            "Hello, world! 5\n",
            "Hello, world! 6\n",
            "Hello, world! 7\n",
            "Hello, world! 8\n",
            "Hello, world! 9\n"
          ],
          "name": "stdout"
        }
      ]
    },
    {
      "cell_type": "code",
      "metadata": {
        "colab": {
          "base_uri": "https://localhost:8080/"
        },
        "id": "GEy1JZiFz3rb",
        "outputId": "7233d190-d21d-4d46-eaeb-068753828365"
      },
      "source": [
        "for _ in range(5):\n",
        "    print('Hello, world!')"
      ],
      "execution_count": 4,
      "outputs": [
        {
          "output_type": "stream",
          "text": [
            "Hello, world!\n",
            "Hello, world!\n",
            "Hello, world!\n",
            "Hello, world!\n",
            "Hello, world!\n"
          ],
          "name": "stdout"
        }
      ]
    },
    {
      "cell_type": "markdown",
      "metadata": {
        "id": "L-y9Emmjz8gS"
      },
      "source": [
        "## 16.2 for와 range 응용"
      ]
    },
    {
      "cell_type": "code",
      "metadata": {
        "colab": {
          "base_uri": "https://localhost:8080/"
        },
        "id": "-FTfdDfnz5du",
        "outputId": "d1d89576-fe04-4718-bf0a-e25fe70013b5"
      },
      "source": [
        "for i in range(6, 10):\n",
        "    print('Hello, world!', i)"
      ],
      "execution_count": 5,
      "outputs": [
        {
          "output_type": "stream",
          "text": [
            "Hello, world! 6\n",
            "Hello, world! 7\n",
            "Hello, world! 8\n",
            "Hello, world! 9\n"
          ],
          "name": "stdout"
        }
      ]
    },
    {
      "cell_type": "code",
      "metadata": {
        "colab": {
          "base_uri": "https://localhost:8080/"
        },
        "id": "8tTyXOmez_Y0",
        "outputId": "357acd84-0fb4-4012-cd3c-02ce9af0906f"
      },
      "source": [
        "for i in range(0, 10, 2):\n",
        "    print('Hello, world!', i)"
      ],
      "execution_count": 6,
      "outputs": [
        {
          "output_type": "stream",
          "text": [
            "Hello, world! 0\n",
            "Hello, world! 2\n",
            "Hello, world! 4\n",
            "Hello, world! 6\n",
            "Hello, world! 8\n"
          ],
          "name": "stdout"
        }
      ]
    },
    {
      "cell_type": "code",
      "metadata": {
        "colab": {
          "base_uri": "https://localhost:8080/"
        },
        "id": "TmqxBxmQ0BEr",
        "outputId": "357ba5cf-d10f-4f42-aae8-842c559196c9"
      },
      "source": [
        "for i in range(10, 0, -2):\n",
        "    print('Hello, world!', i)"
      ],
      "execution_count": 7,
      "outputs": [
        {
          "output_type": "stream",
          "text": [
            "Hello, world! 10\n",
            "Hello, world! 8\n",
            "Hello, world! 6\n",
            "Hello, world! 4\n",
            "Hello, world! 2\n"
          ],
          "name": "stdout"
        }
      ]
    },
    {
      "cell_type": "code",
      "metadata": {
        "colab": {
          "base_uri": "https://localhost:8080/"
        },
        "id": "qFixDBwa0Cw2",
        "outputId": "4cb66323-d109-4141-ab74-a50143906f9e"
      },
      "source": [
        "for i in range(1, 101):\n",
        "    print('Fizz'*(i%3==0) + 'Buzz'*(i%5==0) or i, end=' ')\n",
        "    if (i % 10 == 0):\n",
        "        print()"
      ],
      "execution_count": 8,
      "outputs": [
        {
          "output_type": "stream",
          "text": [
            "1 2 Fizz 4 Buzz Fizz 7 8 Fizz Buzz \n",
            "11 Fizz 13 14 FizzBuzz 16 17 Fizz 19 Buzz \n",
            "Fizz 22 23 Fizz Buzz 26 Fizz 28 29 FizzBuzz \n",
            "31 32 Fizz 34 Buzz Fizz 37 38 Fizz Buzz \n",
            "41 Fizz 43 44 FizzBuzz 46 47 Fizz 49 Buzz \n",
            "Fizz 52 53 Fizz Buzz 56 Fizz 58 59 FizzBuzz \n",
            "61 62 Fizz 64 Buzz Fizz 67 68 Fizz Buzz \n",
            "71 Fizz 73 74 FizzBuzz 76 77 Fizz 79 Buzz \n",
            "Fizz 82 83 Fizz Buzz 86 Fizz 88 89 FizzBuzz \n",
            "91 92 Fizz 94 Buzz Fizz 97 98 Fizz Buzz \n"
          ],
          "name": "stdout"
        }
      ]
    },
    {
      "cell_type": "markdown",
      "metadata": {
        "id": "fZeztceh0GEd"
      },
      "source": [
        "## 16.3 시퀀스 객체 반복"
      ]
    },
    {
      "cell_type": "code",
      "metadata": {
        "colab": {
          "base_uri": "https://localhost:8080/"
        },
        "id": "RuinAY9X0EWJ",
        "outputId": "c907f725-6842-48ea-eb05-fc68470c9cfc"
      },
      "source": [
        "fruits = ['apple', 'banana', 'cherry']\n",
        "for element in fruits:\n",
        "    print(element)"
      ],
      "execution_count": 9,
      "outputs": [
        {
          "output_type": "stream",
          "text": [
            "apple\n",
            "banana\n",
            "cherry\n"
          ],
          "name": "stdout"
        }
      ]
    },
    {
      "cell_type": "code",
      "metadata": {
        "colab": {
          "base_uri": "https://localhost:8080/"
        },
        "id": "VdgC5XhG0H8a",
        "outputId": "a897a1ff-a095-4110-a977-457793a83d57"
      },
      "source": [
        "fruit_list = ['apple', 'banana', 'cherry']\n",
        "for fruit in fruit_list:\n",
        "    print(fruit)"
      ],
      "execution_count": 11,
      "outputs": [
        {
          "output_type": "stream",
          "text": [
            "apple\n",
            "banana\n",
            "cherry\n"
          ],
          "name": "stdout"
        }
      ]
    },
    {
      "cell_type": "code",
      "metadata": {
        "colab": {
          "base_uri": "https://localhost:8080/"
        },
        "id": "qLU8gEuq0JKi",
        "outputId": "ceb4970c-6621-4f8b-d0c9-60fa3ecadc60"
      },
      "source": [
        "for letter in 'Python':\n",
        "    print(letter, end='')"
      ],
      "execution_count": 12,
      "outputs": [
        {
          "output_type": "stream",
          "text": [
            "Python"
          ],
          "name": "stdout"
        }
      ]
    },
    {
      "cell_type": "code",
      "metadata": {
        "colab": {
          "base_uri": "https://localhost:8080/"
        },
        "id": "i1LqaKja0LdV",
        "outputId": "609755d0-a0b6-4393-aeb3-59413bb9c024"
      },
      "source": [
        "for letter in reversed('Python'):\n",
        "    print(letter, end=' ')"
      ],
      "execution_count": 16,
      "outputs": [
        {
          "output_type": "stream",
          "text": [
            "n o h t y P "
          ],
          "name": "stdout"
        }
      ]
    },
    {
      "cell_type": "code",
      "metadata": {
        "colab": {
          "base_uri": "https://localhost:8080/"
        },
        "id": "VCOs4Sr50MrW",
        "outputId": "3ded511d-7488-4b23-c9b6-37f6e1c66bc2"
      },
      "source": [
        "for number in (10, 20, 30):\n",
        "    print(number)"
      ],
      "execution_count": 17,
      "outputs": [
        {
          "output_type": "stream",
          "text": [
            "10\n",
            "20\n",
            "30\n"
          ],
          "name": "stdout"
        }
      ]
    },
    {
      "cell_type": "markdown",
      "metadata": {
        "id": "fICIVCnr0YZc"
      },
      "source": [
        "##Perfect Number\n",
        "- 자기자신을 제외한 약수의 합이 자기자신과 같은 수\n",
        "- 6의 약수: 1, 2, 3, 6\n",
        "- 6 = 1 + 2 + 3\n",
        "- 10000이하의 자연수 중에서는 4개"
      ]
    },
    {
      "cell_type": "code",
      "metadata": {
        "colab": {
          "base_uri": "https://localhost:8080/"
        },
        "id": "UOQRjFhT0N_U",
        "outputId": "2a8796c7-523d-436f-c0ce-38f1c545827c"
      },
      "source": [
        "for i in range(2, 10001):\n",
        "    sum_of_divisor = 0\n",
        "    for k in range(1, i):\n",
        "        if i % k == 0:\n",
        "            sum_of_divisor += k\n",
        "\n",
        "    if i == sum_of_divisor:\n",
        "        print(i)"
      ],
      "execution_count": 18,
      "outputs": [
        {
          "output_type": "stream",
          "text": [
            "6\n",
            "28\n",
            "496\n",
            "8128\n"
          ],
          "name": "stdout"
        }
      ]
    },
    {
      "cell_type": "code",
      "metadata": {
        "colab": {
          "base_uri": "https://localhost:8080/"
        },
        "id": "9oUQpe0d0e2G",
        "outputId": "7b0b5d1c-efea-4771-9099-cac5ffb506ac"
      },
      "source": [
        "perfect_numbers = []\n",
        "for i in range(2, 10001):\n",
        "    divisor_list = []\n",
        "    for k in range(1, i):\n",
        "        if i % k == 0:\n",
        "            divisor_list.append(k)\n",
        "\n",
        "    if i == sum(divisor_list):\n",
        "        perfect_numbers.append(i)\n",
        "\n",
        "print(perfect_numbers)"
      ],
      "execution_count": null,
      "outputs": [
        {
          "output_type": "stream",
          "text": [
            "[6, 28, 496, 8128]\n"
          ],
          "name": "stdout"
        }
      ]
    },
    {
      "cell_type": "code",
      "metadata": {
        "id": "ntBYZ2LS0gxE"
      },
      "source": [
        ""
      ],
      "execution_count": null,
      "outputs": []
    }
  ]
}