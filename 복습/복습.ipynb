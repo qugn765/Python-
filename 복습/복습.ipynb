{
  "nbformat": 4,
  "nbformat_minor": 0,
  "metadata": {
    "colab": {
      "name": "복습.ipynb",
      "provenance": [],
      "collapsed_sections": []
    },
    "kernelspec": {
      "name": "python3",
      "display_name": "Python 3"
    },
    "language_info": {
      "name": "python"
    }
  },
  "cells": [
    {
      "cell_type": "markdown",
      "metadata": {
        "id": "t1DOElU1ekX4"
      },
      "source": [
        "# Unit_6 변수"
      ]
    },
    {
      "cell_type": "code",
      "metadata": {
        "id": "QzLpL8KgeiQ5"
      },
      "source": [
        "x = input()   # 변수입력\n",
        "x = int(input())    # 변수를 정수로 변환\n",
        "a, b = input().split()    # 변수를 한번에 여러개 받기\n",
        "a, b = map(int, input().split())    # 여러개의 변수를 한번에 정수로 변환\n",
        "a, b = map(int, input('숫자 두 개를 입력하세요: ').split(','))      # 여러개의 변수를 ,기분으로 분리\n"
      ],
      "execution_count": null,
      "outputs": []
    },
    {
      "cell_type": "markdown",
      "metadata": {
        "id": "eLds7VEBfUkR"
      },
      "source": [
        "# Unit_7 출력방법"
      ]
    },
    {
      "cell_type": "code",
      "metadata": {
        "colab": {
          "base_uri": "https://localhost:8080/"
        },
        "id": "xFYLpJHGfVVj",
        "outputId": "a2012b57-bf6a-44cc-cfa5-ea13f8a7d960"
      },
      "source": [
        "print(1,2,3 , sep=', ')"
      ],
      "execution_count": null,
      "outputs": [
        {
          "output_type": "stream",
          "text": [
            "1, 2, 3\n"
          ],
          "name": "stdout"
        }
      ]
    },
    {
      "cell_type": "code",
      "metadata": {
        "colab": {
          "base_uri": "https://localhost:8080/"
        },
        "id": "oKExr4g3fiuD",
        "outputId": "09f0f9df-3014-4c24-aa9e-284df04ece8d"
      },
      "source": [
        "print(1,2,3 , sep='\\n') # 줄바꿈"
      ],
      "execution_count": null,
      "outputs": [
        {
          "output_type": "stream",
          "text": [
            "1\n",
            "2\n",
            "3\n"
          ],
          "name": "stdout"
        }
      ]
    },
    {
      "cell_type": "code",
      "metadata": {
        "colab": {
          "base_uri": "https://localhost:8080/"
        },
        "id": "blwk5JnXaPP7",
        "outputId": "36f84361-1fa3-48e3-864e-856e156c8e47"
      },
      "source": [
        "# print뒤에는 기본적은로end가 있어서 이렇게도 줄바꿈가능\n",
        "print(1)\n",
        "print(2)\n",
        "print(3)"
      ],
      "execution_count": null,
      "outputs": [
        {
          "output_type": "stream",
          "text": [
            "1\n",
            "2\n",
            "3\n"
          ],
          "name": "stdout"
        }
      ]
    },
    {
      "cell_type": "markdown",
      "metadata": {
        "id": "J969J01uai13"
      },
      "source": [
        "# Unit_8 불과 비교 연산자 사용하기"
      ]
    },
    {
      "cell_type": "code",
      "metadata": {
        "colab": {
          "base_uri": "https://localhost:8080/"
        },
        "id": "nstaGjsCaZAP",
        "outputId": "1b32fbbd-2ca6-4d1a-91e4-b44fd61bec71"
      },
      "source": [
        "# 연산자 ----  > , < , >=, <= , == , != , is , is not ( is랑 is not은 값을 비교하는것이 아닌 객체를 비교하는것)\n",
        "\n",
        "print(3 > 1)\n",
        "print(10 == 10)\n",
        "print(10 != 5)"
      ],
      "execution_count": null,
      "outputs": [
        {
          "output_type": "stream",
          "text": [
            "True\n",
            "True\n",
            "True\n"
          ],
          "name": "stdout"
        }
      ]
    },
    {
      "cell_type": "code",
      "metadata": {
        "colab": {
          "base_uri": "https://localhost:8080/"
        },
        "id": "d_ADYBDQb2jR",
        "outputId": "9efd0d12-0d39-4b9a-dc7f-4ae2a2eecbf0"
      },
      "source": [
        "# 1) and 연산자 \n",
        "True and True"
      ],
      "execution_count": null,
      "outputs": [
        {
          "output_type": "execute_result",
          "data": {
            "text/plain": [
              "True"
            ]
          },
          "metadata": {
            "tags": []
          },
          "execution_count": 17
        }
      ]
    },
    {
      "cell_type": "code",
      "metadata": {
        "colab": {
          "base_uri": "https://localhost:8080/"
        },
        "id": "_sxx8_cPb6F-",
        "outputId": "105367f7-5402-4860-b117-58273cbb83f1"
      },
      "source": [
        "True and FalseTrue and False"
      ],
      "execution_count": null,
      "outputs": [
        {
          "output_type": "execute_result",
          "data": {
            "text/plain": [
              "False"
            ]
          },
          "metadata": {
            "tags": []
          },
          "execution_count": 11
        }
      ]
    },
    {
      "cell_type": "code",
      "metadata": {
        "colab": {
          "base_uri": "https://localhost:8080/"
        },
        "id": "AZnEXRavb8f7",
        "outputId": "fe251bdd-fcd1-4e2a-c424-9b5677f31147"
      },
      "source": [
        "False and True"
      ],
      "execution_count": null,
      "outputs": [
        {
          "output_type": "execute_result",
          "data": {
            "text/plain": [
              "False"
            ]
          },
          "metadata": {
            "tags": []
          },
          "execution_count": 12
        }
      ]
    },
    {
      "cell_type": "code",
      "metadata": {
        "colab": {
          "base_uri": "https://localhost:8080/"
        },
        "id": "dcMNibtGb_VG",
        "outputId": "92555038-4aa7-42d1-f905-5a89c734c06d"
      },
      "source": [
        "False and False"
      ],
      "execution_count": null,
      "outputs": [
        {
          "output_type": "execute_result",
          "data": {
            "text/plain": [
              "False"
            ]
          },
          "metadata": {
            "tags": []
          },
          "execution_count": 13
        }
      ]
    },
    {
      "cell_type": "code",
      "metadata": {
        "colab": {
          "base_uri": "https://localhost:8080/"
        },
        "id": "O6sJVM2fcKF_",
        "outputId": "2b2ae00a-1bc8-46fa-a8ce-7112ada3b23a"
      },
      "source": [
        "# 2) or 연산자\n",
        "True or True"
      ],
      "execution_count": null,
      "outputs": [
        {
          "output_type": "execute_result",
          "data": {
            "text/plain": [
              "True"
            ]
          },
          "metadata": {
            "tags": []
          },
          "execution_count": 18
        }
      ]
    },
    {
      "cell_type": "code",
      "metadata": {
        "colab": {
          "base_uri": "https://localhost:8080/"
        },
        "id": "NjTgoKBRcKA1",
        "outputId": "bf8377e3-b221-4821-a5f3-91a596169a49"
      },
      "source": [
        "True or False"
      ],
      "execution_count": null,
      "outputs": [
        {
          "output_type": "execute_result",
          "data": {
            "text/plain": [
              "True"
            ]
          },
          "metadata": {
            "tags": []
          },
          "execution_count": 19
        }
      ]
    },
    {
      "cell_type": "code",
      "metadata": {
        "colab": {
          "base_uri": "https://localhost:8080/"
        },
        "id": "DFbWYk2ScPYP",
        "outputId": "72ad702c-1ea7-402b-8fcc-c4743a19c621"
      },
      "source": [
        "False or True"
      ],
      "execution_count": null,
      "outputs": [
        {
          "output_type": "execute_result",
          "data": {
            "text/plain": [
              "True"
            ]
          },
          "metadata": {
            "tags": []
          },
          "execution_count": 20
        }
      ]
    },
    {
      "cell_type": "code",
      "metadata": {
        "colab": {
          "base_uri": "https://localhost:8080/"
        },
        "id": "1nSNq5ydcQ3k",
        "outputId": "798fa251-3b64-4aaa-93b1-a10b0fb110ae"
      },
      "source": [
        "False or False"
      ],
      "execution_count": null,
      "outputs": [
        {
          "output_type": "execute_result",
          "data": {
            "text/plain": [
              "False"
            ]
          },
          "metadata": {
            "tags": []
          },
          "execution_count": 21
        }
      ]
    },
    {
      "cell_type": "code",
      "metadata": {
        "colab": {
          "base_uri": "https://localhost:8080/"
        },
        "id": "mtmk__JXcSQU",
        "outputId": "ef175edf-dcdc-49aa-9b6f-910e46c8610e"
      },
      "source": [
        "# 3) not 연산자 \n",
        "not True"
      ],
      "execution_count": null,
      "outputs": [
        {
          "output_type": "execute_result",
          "data": {
            "text/plain": [
              "False"
            ]
          },
          "metadata": {
            "tags": []
          },
          "execution_count": 23
        }
      ]
    },
    {
      "cell_type": "code",
      "metadata": {
        "colab": {
          "base_uri": "https://localhost:8080/"
        },
        "id": "RAOAqLVndUlA",
        "outputId": "1c84b726-41de-4414-e3e6-ba7a3cd8b6bc"
      },
      "source": [
        "not False"
      ],
      "execution_count": null,
      "outputs": [
        {
          "output_type": "execute_result",
          "data": {
            "text/plain": [
              "True"
            ]
          },
          "metadata": {
            "tags": []
          },
          "execution_count": 24
        }
      ]
    },
    {
      "cell_type": "markdown",
      "metadata": {
        "id": "LbPTuBSLapoV"
      },
      "source": [
        "# Unit_9 문자열 사용하기"
      ]
    },
    {
      "cell_type": "code",
      "metadata": {
        "colab": {
          "base_uri": "https://localhost:8080/"
        },
        "id": "iIrhqpVbatAz",
        "outputId": "be6d5feb-cc33-4ec4-d411-91057cc9af3c"
      },
      "source": [
        "# ' '(작은따옴표 1개) , \" \"(큰따옴표 1개) , ''' '''(작은따옴표 3개) , \"\"\"  \"\"\"(큰따옴표 3개) \n",
        "# 이렇게 4가지 방식으로 묶을 수 있음 \n",
        "hello = 'hello'\n",
        "print(hello)\n",
        "hello = \"hello\"\n",
        "print(hello)\n",
        "hello = '''hello'''\n",
        "print(hello)\n",
        "hello = \"\"\"hello\"\"\"\n",
        "print(hello)"
      ],
      "execution_count": null,
      "outputs": [
        {
          "output_type": "stream",
          "text": [
            "hello\n",
            "hello\n",
            "hello\n",
            "hello\n"
          ],
          "name": "stdout"
        }
      ]
    },
    {
      "cell_type": "code",
      "metadata": {
        "colab": {
          "base_uri": "https://localhost:8080/"
        },
        "id": "Ark8BxiUfSdg",
        "outputId": "d482f88b-68c7-4742-f16d-2f692e905a3e"
      },
      "source": [
        "# 문자열 안에 작은따옴표나 큰따옴표 포함하기\n",
        "s = \"Python isn't difficult\"  # 작은따옴표를 넣기위해 큰따옴표를 사용\n",
        "print(s)\n",
        "s = 'He said \"Python is easy\"'# 큰따옴표를 넣기위해 작은따옴표를 사용\n",
        "print(s)"
      ],
      "execution_count": null,
      "outputs": [
        {
          "output_type": "stream",
          "text": [
            "Python isn't difficult\n",
            "He said \"Python is easy\"\n"
          ],
          "name": "stdout"
        }
      ]
    },
    {
      "cell_type": "markdown",
      "metadata": {
        "id": "TiyqoUvsatT5"
      },
      "source": [
        "# Unit_10 리스트와 튜플 사용하기"
      ]
    },
    {
      "cell_type": "code",
      "metadata": {
        "id": "sIAIjBzdh_Ix"
      },
      "source": [
        "# 리스트와 튜플의 차이점 = 리스트, 튜플 모두 요소를 일렬로 저장하지만 튜플은 요소를 변경 추가 삭제 불가능\n",
        "# 튜플 = 읽기전용 리스트"
      ],
      "execution_count": null,
      "outputs": []
    },
    {
      "cell_type": "code",
      "metadata": {
        "colab": {
          "base_uri": "https://localhost:8080/"
        },
        "id": "jjkR4LBLavU_",
        "outputId": "a364207c-68ae-47a7-90cb-2f65a97b6465"
      },
      "source": [
        "# 리스트 만들기\n",
        "a = [38, 21, 53, 62, 19]\n",
        "print(a)\n",
        "# 리스트 안에 여러 자료형 입력하기\n",
        "person = ['james', 17, 175.3, True]\n",
        "print(person)"
      ],
      "execution_count": null,
      "outputs": [
        {
          "output_type": "stream",
          "text": [
            "[38, 21, 53, 62, 19]\n",
            "['james', 17, 175.3, True]\n"
          ],
          "name": "stdout"
        }
      ]
    },
    {
      "cell_type": "code",
      "metadata": {
        "colab": {
          "base_uri": "https://localhost:8080/"
        },
        "id": "vv6fHmi9gqcS",
        "outputId": "878b0602-33fb-49c4-b2ee-5dbbc99df9d1"
      },
      "source": [
        "# 빈 리스트 만들기\n",
        "a =[]\n",
        "print(a)\n",
        "b = list()\n",
        "print(b)"
      ],
      "execution_count": null,
      "outputs": [
        {
          "output_type": "stream",
          "text": [
            "[]\n",
            "[]\n"
          ],
          "name": "stdout"
        }
      ]
    },
    {
      "cell_type": "code",
      "metadata": {
        "colab": {
          "base_uri": "https://localhost:8080/"
        },
        "id": "u3m1_4uIgzYC",
        "outputId": "c630b8bd-87f1-4468-9597-a1c7b82cc152"
      },
      "source": [
        "# range를 사용하여 리스트 만들기  \n",
        "# range(a) = 0부터 a-1 까지 출력   range(a, b) =  a부터 b-1까지 출력\n",
        "# range(a, b, c) = a부터 b-1까지 c만큼의 간격으로 출력\n",
        "a = list(range(0,10))\n",
        "print(a)\n",
        "b = list(range(10))\n",
        "print(b)\n",
        "c = list(range(-4, 10, 2))\n",
        "print(c)\n",
        "d = list(range(10, 0, -1))\n",
        "print(d)"
      ],
      "execution_count": null,
      "outputs": [
        {
          "output_type": "stream",
          "text": [
            "[0, 1, 2, 3, 4, 5, 6, 7, 8, 9]\n",
            "[0, 1, 2, 3, 4, 5, 6, 7, 8, 9]\n",
            "[-4, -2, 0, 2, 4, 6, 8]\n",
            "[10, 9, 8, 7, 6, 5, 4, 3, 2, 1]\n"
          ],
          "name": "stdout"
        }
      ]
    },
    {
      "cell_type": "code",
      "metadata": {
        "colab": {
          "base_uri": "https://localhost:8080/"
        },
        "id": "JpTfiPj1h3yH",
        "outputId": "fd74dd65-3efb-49ba-9abc-c10f7a3e6191"
      },
      "source": [
        "# 튜플\n",
        "a = (38, 21, 53, 62, 19)\n",
        "print(a)\n",
        "b = 38, 21, 53, 62, 19\n",
        "print(b)\n",
        "person = ('james', 17, 175.3, True)\n",
        "print(person)\n",
        "\n",
        "# 한개짜리 튜플만드는 방법\n",
        "(38,)"
      ],
      "execution_count": null,
      "outputs": [
        {
          "output_type": "stream",
          "text": [
            "(38, 21, 53, 62, 19)\n",
            "(38, 21, 53, 62, 19)\n",
            "('james', 17, 175.3, True)\n"
          ],
          "name": "stdout"
        },
        {
          "output_type": "execute_result",
          "data": {
            "text/plain": [
              "(38,)"
            ]
          },
          "metadata": {
            "tags": []
          },
          "execution_count": 40
        }
      ]
    },
    {
      "cell_type": "code",
      "metadata": {
        "colab": {
          "base_uri": "https://localhost:8080/"
        },
        "id": "JEU13PGvijZQ",
        "outputId": "0bae0790-15e2-4e1c-fe12-80bb1e98cf30"
      },
      "source": [
        "# range를 사용하여 튜플 만들기\n",
        "a = tuple(range(10))\n",
        "print(a)\n",
        "b = tuple(range(5, 12))\n",
        "print(b)\n",
        "c = tuple(range(-4, 10, 2))\n",
        "print(c)"
      ],
      "execution_count": null,
      "outputs": [
        {
          "output_type": "stream",
          "text": [
            "(0, 1, 2, 3, 4, 5, 6, 7, 8, 9)\n",
            "(5, 6, 7, 8, 9, 10, 11)\n",
            "(-4, -2, 0, 2, 4, 6, 8)\n"
          ],
          "name": "stdout"
        }
      ]
    },
    {
      "cell_type": "code",
      "metadata": {
        "colab": {
          "base_uri": "https://localhost:8080/"
        },
        "id": "yUKXkAZKixjV",
        "outputId": "8c769f08-c67f-4c8a-f46c-ae709edcddf6"
      },
      "source": [
        "# 튜플 <-> 리스트 변경하기\n",
        "a = [1,2,3] # 리스트\n",
        "tuple(a) # 튜플로 변화"
      ],
      "execution_count": null,
      "outputs": [
        {
          "output_type": "execute_result",
          "data": {
            "text/plain": [
              "(1, 2, 3)"
            ]
          },
          "metadata": {
            "tags": []
          },
          "execution_count": 43
        }
      ]
    },
    {
      "cell_type": "code",
      "metadata": {
        "colab": {
          "base_uri": "https://localhost:8080/"
        },
        "id": "0YRTAKr5i5Rx",
        "outputId": "138db1c9-0ed3-4a3d-b545-278300fc565c"
      },
      "source": [
        "b = (4,5,6) # 튜플\n",
        "list(b) # 리스트로 변화"
      ],
      "execution_count": null,
      "outputs": [
        {
          "output_type": "execute_result",
          "data": {
            "text/plain": [
              "[4, 5, 6]"
            ]
          },
          "metadata": {
            "tags": []
          },
          "execution_count": 44
        }
      ]
    },
    {
      "cell_type": "code",
      "metadata": {
        "colab": {
          "base_uri": "https://localhost:8080/"
        },
        "id": "DndQdPbajCRq",
        "outputId": "a8e11478-c109-4fc4-c11a-bf796fd6a201"
      },
      "source": [
        "# list와 tuple 안에 문자열을 넣으면 문자 각각 요소가 된다\n",
        "a = list('Hello')\n",
        "print(a)\n",
        "b = tuple('Hello')\n",
        "print(b)"
      ],
      "execution_count": null,
      "outputs": [
        {
          "output_type": "stream",
          "text": [
            "['H', 'e', 'l', 'l', 'o']\n",
            "('H', 'e', 'l', 'l', 'o')\n"
          ],
          "name": "stdout"
        }
      ]
    },
    {
      "cell_type": "markdown",
      "metadata": {
        "id": "43ejyYR1avuw"
      },
      "source": [
        "# Unit_11 Sequence(연속적) 자료형 활용하기\n",
        "\n",
        "\n"
      ]
    },
    {
      "cell_type": "code",
      "metadata": {
        "id": "hX1ziAoya3EI"
      },
      "source": [
        "# Sequence 자료형 - list, tuple, range, str , bytes, bytearray"
      ],
      "execution_count": null,
      "outputs": []
    },
    {
      "cell_type": "code",
      "metadata": {
        "colab": {
          "base_uri": "https://localhost:8080/"
        },
        "id": "etK-eJ25kgMc",
        "outputId": "edb761e4-b422-4b25-847b-56d15c1672e1"
      },
      "source": [
        "# 특정 값이 있는지 확인하기  (in,   not in)\n",
        "a = [0, 10, 20, 30, 40, 50, 60, 70, 80, 90]\n",
        "print(30 in a)\n",
        "print(100 in a)\n",
        "print(100 not in a)\n",
        "print(30 not in a)"
      ],
      "execution_count": null,
      "outputs": [
        {
          "output_type": "stream",
          "text": [
            "True\n",
            "False\n",
            "True\n",
            "False\n"
          ],
          "name": "stdout"
        }
      ]
    },
    {
      "cell_type": "code",
      "metadata": {
        "colab": {
          "base_uri": "https://localhost:8080/"
        },
        "id": "VjCpK6vmmbrc",
        "outputId": "1c6cf135-db76-48a2-fda0-cca5a77153f0"
      },
      "source": [
        "# Sequence 객체 연결하기\n",
        "a = [0, 10, 20, 30]\n",
        "b = [9, 8, 7, 6]\n",
        "a + b"
      ],
      "execution_count": null,
      "outputs": [
        {
          "output_type": "execute_result",
          "data": {
            "text/plain": [
              "[0, 10, 20, 30, 9, 8, 7, 6]"
            ]
          },
          "metadata": {
            "tags": []
          },
          "execution_count": 50
        }
      ]
    },
    {
      "cell_type": "code",
      "metadata": {
        "colab": {
          "base_uri": "https://localhost:8080/"
        },
        "id": "SWY6NcTrmlyf",
        "outputId": "de7344e2-ff2d-4bb9-a562-fc9d9f9350f1"
      },
      "source": [
        "# 리스트와 튜플 요소 개수 구하기\n",
        "a = [0, 10, 20, 30, 40, 50, 60, 70, 80, 90]\n",
        "len (a)"
      ],
      "execution_count": null,
      "outputs": [
        {
          "output_type": "execute_result",
          "data": {
            "text/plain": [
              "10"
            ]
          },
          "metadata": {
            "tags": []
          },
          "execution_count": 51
        }
      ]
    },
    {
      "cell_type": "code",
      "metadata": {
        "colab": {
          "base_uri": "https://localhost:8080/"
        },
        "id": "MSK41IHlqo3O",
        "outputId": "51f40043-6b56-4cc9-f7e6-8199714f8541"
      },
      "source": [
        "# 문자열의 길이 구하기  -  띄어쓰기도 포함\n",
        "hello = 'Hello, world!'\n",
        "len(hello)"
      ],
      "execution_count": null,
      "outputs": [
        {
          "output_type": "execute_result",
          "data": {
            "text/plain": [
              "13"
            ]
          },
          "metadata": {
            "tags": []
          },
          "execution_count": 52
        }
      ]
    },
    {
      "cell_type": "code",
      "metadata": {
        "colab": {
          "base_uri": "https://localhost:8080/"
        },
        "id": "XY4LZLTWq0Dv",
        "outputId": "94ffd24f-0798-49f8-d71d-59910adcfe7d"
      },
      "source": [
        "# 인덱스 사용하기\n",
        "a = [38, 21, 53, 62, 19]\n",
        "print(a[0])  #  1번째 요소 출력\n",
        "print(a[2])  #  3번째 요소 출력"
      ],
      "execution_count": null,
      "outputs": [
        {
          "output_type": "stream",
          "text": [
            "38\n",
            "53\n"
          ],
          "name": "stdout"
        }
      ]
    },
    {
      "cell_type": "code",
      "metadata": {
        "colab": {
          "base_uri": "https://localhost:8080/"
        },
        "id": "iiq5oz8Br3KS",
        "outputId": "f3014b9a-aa1f-4a0c-e53e-6c63772f43bb"
      },
      "source": [
        "# 음수 인덱스 지정하기\n",
        "a = [38, 21, 53, 62, 19]\n",
        "print(a[-1])  # 뒤에서 1번째 요소 출력\n",
        "print(a[-4])  # 뒤에서 4번째 요소 출력"
      ],
      "execution_count": null,
      "outputs": [
        {
          "output_type": "stream",
          "text": [
            "19\n",
            "21\n"
          ],
          "name": "stdout"
        }
      ]
    },
    {
      "cell_type": "markdown",
      "metadata": {
        "id": "K47fpemka3ky"
      },
      "source": [
        "# Unit_12 딕셔너리 사용하기"
      ]
    },
    {
      "cell_type": "code",
      "metadata": {
        "id": "YonnbL9ea5Jn"
      },
      "source": [
        ""
      ],
      "execution_count": null,
      "outputs": []
    },
    {
      "cell_type": "markdown",
      "metadata": {
        "id": "EBfkynL9a5gi"
      },
      "source": [
        "# Unit_13 if조건문으로 특정조건일때 코드 실행"
      ]
    },
    {
      "cell_type": "code",
      "metadata": {
        "id": "j0SqYS_Na8O_"
      },
      "source": [
        ""
      ],
      "execution_count": null,
      "outputs": []
    }
  ]
}