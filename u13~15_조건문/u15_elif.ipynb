{
  "nbformat": 4,
  "nbformat_minor": 0,
  "metadata": {
    "colab": {
      "name": "y15_elif.ipynb",
      "provenance": []
    },
    "kernelspec": {
      "name": "python3",
      "display_name": "Python 3"
    },
    "language_info": {
      "name": "python"
    }
  },
  "cells": [
    {
      "cell_type": "code",
      "metadata": {
        "colab": {
          "base_uri": "https://localhost:8080/"
        },
        "id": "HL0AVHcRoZcO",
        "outputId": "e8843aa5-7493-4f2b-de2e-08c80c81bd28"
      },
      "source": [
        "x = 20\n",
        "if x == 10:\n",
        "      print('It is 10.')\n",
        "elif x == 20:\n",
        "      print('It is 20.')\n",
        "else:\n",
        "      print('10, 20이 아닙니다')"
      ],
      "execution_count": 1,
      "outputs": [
        {
          "output_type": "stream",
          "text": [
            "20입니다.\n"
          ],
          "name": "stdout"
        }
      ]
    },
    {
      "cell_type": "code",
      "metadata": {
        "colab": {
          "base_uri": "https://localhost:8080/"
        },
        "id": "yQp1AYWNottT",
        "outputId": "8eba44ff-2d0f-4dc3-bf7b-d4a37381d040"
      },
      "source": [
        "# 숫자- 입력, 3의 배수면 Fizz, 5의 배수면 Buzz, 15의 배수면 FizzBuzz\n",
        "x = int(input())\n",
        "if (x % 15) == 0 :\n",
        "  print('FizzBuzz')\n",
        "elif (x % 3) == 0 :\n",
        "  print('Fizz')\n",
        "elif ( x % 5) == 0 :\n",
        "  print('Buzz')\n",
        "else :\n",
        "  print(x)"
      ],
      "execution_count": 12,
      "outputs": [
        {
          "output_type": "stream",
          "text": [
            "3\n",
            "Fizz\n"
          ],
          "name": "stdout"
        }
      ]
    },
    {
      "cell_type": "code",
      "metadata": {
        "colab": {
          "base_uri": "https://localhost:8080/"
        },
        "id": "GZ5A3GB-pW7r",
        "outputId": "2c10a5c1-af4e-4194-e86c-31708d71ac10"
      },
      "source": [
        "x = int(input())\n",
        "print('Fizz' *(x%3==0) + 'Buzz' * (x % 5==0) or x )\n"
      ],
      "execution_count": 16,
      "outputs": [
        {
          "output_type": "stream",
          "text": [
            "7\n",
            "7\n"
          ],
          "name": "stdout"
        }
      ]
    },
    {
      "cell_type": "code",
      "metadata": {
        "id": "9eUg75sqrXjc"
      },
      "source": [
        ""
      ],
      "execution_count": null,
      "outputs": []
    }
  ]
}