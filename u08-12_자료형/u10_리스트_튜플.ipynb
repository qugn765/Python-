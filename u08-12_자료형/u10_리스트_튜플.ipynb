{
  "nbformat": 4,
  "nbformat_minor": 0,
  "metadata": {
    "colab": {
      "name": "u10_리스트_튜플.ipynb",
      "provenance": [],
      "collapsed_sections": []
    },
    "kernelspec": {
      "name": "python3",
      "display_name": "Python 3"
    },
    "language_info": {
      "name": "python"
    }
  },
  "cells": [
    {
      "cell_type": "markdown",
      "metadata": {
        "id": "r5ga7_cJgk0I"
      },
      "source": [
        "#Unit 10. 리스트와 튜플"
      ]
    },
    {
      "cell_type": "markdown",
      "metadata": {
        "id": "k1gZW64tiWju"
      },
      "source": [
        "##10.1 리스트"
      ]
    },
    {
      "cell_type": "code",
      "metadata": {
        "colab": {
          "base_uri": "https://localhost:8080/",
          "height": 0
        },
        "id": "lMqUqvMJgh0n",
        "outputId": "e4d0ab3f-6aa7-4c78-c9dd-55b408cbded9"
      },
      "source": [
        "a = [38, 21, 53, 62, 19]\n",
        "a"
      ],
      "execution_count": 1,
      "outputs": [
        {
          "output_type": "execute_result",
          "data": {
            "text/plain": [
              "[38, 21, 53, 62, 19]"
            ]
          },
          "metadata": {
            "tags": []
          },
          "execution_count": 1
        }
      ]
    },
    {
      "cell_type": "code",
      "metadata": {
        "colab": {
          "base_uri": "https://localhost:8080/",
          "height": 0
        },
        "id": "sG0saNAlidN3",
        "outputId": "cb836ce6-5e63-4adf-e1e9-8066afdf94e3"
      },
      "source": [
        "# 파이썬 에서는 리스트 엘리먼트가 다른 자료형도 가능\n",
        "person = ['James', 19, 175.2, True, [120, 80]]\n",
        "person"
      ],
      "execution_count": 4,
      "outputs": [
        {
          "output_type": "execute_result",
          "data": {
            "text/plain": [
              "['James', 19, 175.2, True, [120, 80]]"
            ]
          },
          "metadata": {
            "tags": []
          },
          "execution_count": 4
        }
      ]
    },
    {
      "cell_type": "code",
      "metadata": {
        "colab": {
          "base_uri": "https://localhost:8080/",
          "height": 0
        },
        "id": "cPf4bLChim1f",
        "outputId": "3fcf71e4-3e54-4094-f9ab-fd3be88c8508"
      },
      "source": [
        "# 위의 person은 다음과 같은 딕셔너릴로 변경하는 것이 권장됨\n",
        "person_dict = {'name' :'James', 'age' :19, 'height' : 175.2, \n",
        "              'is_male' :True, 'bp' :[120, 80]}\n",
        "person_dict"
      ],
      "execution_count": 7,
      "outputs": [
        {
          "output_type": "execute_result",
          "data": {
            "text/plain": [
              "{'age': 19, 'bp': [120, 80], 'height': 175.2, 'is_male': True, 'name': 'James'}"
            ]
          },
          "metadata": {
            "tags": []
          },
          "execution_count": 7
        }
      ]
    },
    {
      "cell_type": "markdown",
      "metadata": {
        "id": "QH1-dW-wj0kd"
      },
      "source": [
        "### 빈리스트 만들기"
      ]
    },
    {
      "cell_type": "code",
      "metadata": {
        "colab": {
          "base_uri": "https://localhost:8080/",
          "height": 0
        },
        "id": "01gNtasujMTN",
        "outputId": "0c5ca929-1adc-4757-c458-551042ff4930"
      },
      "source": [
        "a = []\n",
        "b = list()\n",
        "a,b"
      ],
      "execution_count": 8,
      "outputs": [
        {
          "output_type": "execute_result",
          "data": {
            "text/plain": [
              "([], [])"
            ]
          },
          "metadata": {
            "tags": []
          },
          "execution_count": 8
        }
      ]
    },
    {
      "cell_type": "code",
      "metadata": {
        "colab": {
          "base_uri": "https://localhost:8080/",
          "height": 0
        },
        "id": "k_H7XhYLj8xr",
        "outputId": "ee5b18bb-5d01-4d2c-d6fd-78d10826d37a"
      },
      "source": [
        "a,b = [] ,[]\n",
        "a,b"
      ],
      "execution_count": 9,
      "outputs": [
        {
          "output_type": "execute_result",
          "data": {
            "text/plain": [
              "([], [])"
            ]
          },
          "metadata": {
            "tags": []
          },
          "execution_count": 9
        }
      ]
    },
    {
      "cell_type": "markdown",
      "metadata": {
        "id": "Yt7ExeOQkY90"
      },
      "source": [
        "###range \n",
        "range([시작숫자], 끝나는 숫자+1, [증가분])\n",
        "\n",
        "- ex) range(10) = 0 부터 9까지\n",
        "\n",
        "- ex) range(10,20) = 10 부터 19까지\n",
        "\n",
        "- ex) range(10, 39, 2) = 10 12 14... 38까지"
      ]
    },
    {
      "cell_type": "code",
      "metadata": {
        "colab": {
          "base_uri": "https://localhost:8080/",
          "height": 0
        },
        "id": "l66N1torkRDq",
        "outputId": "d4b9936f-97ba-4e10-9907-0a78164df401"
      },
      "source": [
        "a= range(10)\n",
        "a"
      ],
      "execution_count": 10,
      "outputs": [
        {
          "output_type": "execute_result",
          "data": {
            "text/plain": [
              "range(0, 10)"
            ]
          },
          "metadata": {
            "tags": []
          },
          "execution_count": 10
        }
      ]
    },
    {
      "cell_type": "code",
      "metadata": {
        "colab": {
          "base_uri": "https://localhost:8080/",
          "height": 0
        },
        "id": "Ci5-v__YlJm6",
        "outputId": "77dae356-c7ec-430c-f347-92bbc736a376"
      },
      "source": [
        "list(a)"
      ],
      "execution_count": 11,
      "outputs": [
        {
          "output_type": "execute_result",
          "data": {
            "text/plain": [
              "[0, 1, 2, 3, 4, 5, 6, 7, 8, 9]"
            ]
          },
          "metadata": {
            "tags": []
          },
          "execution_count": 11
        }
      ]
    },
    {
      "cell_type": "code",
      "metadata": {
        "colab": {
          "base_uri": "https://localhost:8080/",
          "height": 0
        },
        "id": "6wkZvmZVlLCS",
        "outputId": "26b1d8ed-fb9c-44ad-be5e-1a8a2bd15fe7"
      },
      "source": [
        "list(range(1,11))"
      ],
      "execution_count": 12,
      "outputs": [
        {
          "output_type": "execute_result",
          "data": {
            "text/plain": [
              "[1, 2, 3, 4, 5, 6, 7, 8, 9, 10]"
            ]
          },
          "metadata": {
            "tags": []
          },
          "execution_count": 12
        }
      ]
    },
    {
      "cell_type": "code",
      "metadata": {
        "colab": {
          "base_uri": "https://localhost:8080/",
          "height": 0
        },
        "id": "0NP7039ElZg9",
        "outputId": "32792b6d-8b38-42e1-dc30-174967bb54c8"
      },
      "source": [
        "list(range(1,10,2))"
      ],
      "execution_count": 13,
      "outputs": [
        {
          "output_type": "execute_result",
          "data": {
            "text/plain": [
              "[1, 3, 5, 7, 9]"
            ]
          },
          "metadata": {
            "tags": []
          },
          "execution_count": 13
        }
      ]
    },
    {
      "cell_type": "code",
      "metadata": {
        "colab": {
          "base_uri": "https://localhost:8080/",
          "height": 0
        },
        "id": "kUyhFGfJpDD3",
        "outputId": "c423e638-84ab-4ce3-dca9-77d369f9dce4"
      },
      "source": [
        "list(range(10,0,-1))"
      ],
      "execution_count": 14,
      "outputs": [
        {
          "output_type": "execute_result",
          "data": {
            "text/plain": [
              "[10, 9, 8, 7, 6, 5, 4, 3, 2, 1]"
            ]
          },
          "metadata": {
            "tags": []
          },
          "execution_count": 14
        }
      ]
    },
    {
      "cell_type": "code",
      "metadata": {
        "colab": {
          "base_uri": "https://localhost:8080/",
          "height": 0
        },
        "id": "Vg5TqrzbpHbe",
        "outputId": "bf1a1267-392c-4a4d-ad20-8cf18e77efbe"
      },
      "source": [
        "list(range(2,11,2))"
      ],
      "execution_count": 15,
      "outputs": [
        {
          "output_type": "execute_result",
          "data": {
            "text/plain": [
              "[2, 4, 6, 8, 10]"
            ]
          },
          "metadata": {
            "tags": []
          },
          "execution_count": 15
        }
      ]
    },
    {
      "cell_type": "markdown",
      "metadata": {
        "id": "L-26rfO1pQCB"
      },
      "source": [
        "##10.2 튜플(tuple)\n",
        "- Read-Only 특성(변경 불가능)"
      ]
    },
    {
      "cell_type": "code",
      "metadata": {
        "colab": {
          "base_uri": "https://localhost:8080/",
          "height": 0
        },
        "id": "x2zCYSOppO8V",
        "outputId": "c07e2bcc-2314-4d28-d8c5-ede81c22b1f2"
      },
      "source": [
        "a=(38,21,47)\n",
        "a"
      ],
      "execution_count": 16,
      "outputs": [
        {
          "output_type": "execute_result",
          "data": {
            "text/plain": [
              "(38, 21, 47)"
            ]
          },
          "metadata": {
            "tags": []
          },
          "execution_count": 16
        }
      ]
    },
    {
      "cell_type": "code",
      "metadata": {
        "colab": {
          "base_uri": "https://localhost:8080/",
          "height": 0
        },
        "id": "0tWiDFXcpUj0",
        "outputId": "b1d5051e-fa49-4f3b-e98d-12ce678510ed"
      },
      "source": [
        "a = 38, 21, 47\n",
        "a"
      ],
      "execution_count": 17,
      "outputs": [
        {
          "output_type": "execute_result",
          "data": {
            "text/plain": [
              "(38, 21, 47)"
            ]
          },
          "metadata": {
            "tags": []
          },
          "execution_count": 17
        }
      ]
    },
    {
      "cell_type": "code",
      "metadata": {
        "colab": {
          "base_uri": "https://localhost:8080/",
          "height": 0
        },
        "id": "w2KfesqipWu2",
        "outputId": "550319ef-eb17-4de7-ee01-7d2e7aa184f9"
      },
      "source": [
        "person = ('James', 19, 175.2, True, [120, 80])\n",
        "person"
      ],
      "execution_count": 19,
      "outputs": [
        {
          "output_type": "execute_result",
          "data": {
            "text/plain": [
              "('James', 19, 175.2, True, [120, 80])"
            ]
          },
          "metadata": {
            "tags": []
          },
          "execution_count": 19
        }
      ]
    },
    {
      "cell_type": "code",
      "metadata": {
        "colab": {
          "base_uri": "https://localhost:8080/",
          "height": 0
        },
        "id": "dSt7_DNSpbo6",
        "outputId": "e7e0bb16-13ec-48b2-90b1-7be90620cbd4"
      },
      "source": [
        "a = tuple()\n",
        "a"
      ],
      "execution_count": 21,
      "outputs": [
        {
          "output_type": "execute_result",
          "data": {
            "text/plain": [
              "()"
            ]
          },
          "metadata": {
            "tags": []
          },
          "execution_count": 21
        }
      ]
    },
    {
      "cell_type": "code",
      "metadata": {
        "colab": {
          "base_uri": "https://localhost:8080/",
          "height": 0
        },
        "id": "eRk9bDzWpxVm",
        "outputId": "a65b9839-851a-462c-abdf-5c7157f16fa2"
      },
      "source": [
        "a = (38)\n",
        "a\n",
        "# 이건 튜플이 아님"
      ],
      "execution_count": 22,
      "outputs": [
        {
          "output_type": "execute_result",
          "data": {
            "text/plain": [
              "38"
            ]
          },
          "metadata": {
            "tags": []
          },
          "execution_count": 22
        }
      ]
    },
    {
      "cell_type": "code",
      "metadata": {
        "colab": {
          "base_uri": "https://localhost:8080/",
          "height": 0
        },
        "id": "vyRNSnBLqOm9",
        "outputId": "eb2694ba-834f-4b7e-9c3c-cabd7f9e6784"
      },
      "source": [
        "a = (38,)\n",
        "a\n"
      ],
      "execution_count": 23,
      "outputs": [
        {
          "output_type": "execute_result",
          "data": {
            "text/plain": [
              "(38,)"
            ]
          },
          "metadata": {
            "tags": []
          },
          "execution_count": 23
        }
      ]
    },
    {
      "cell_type": "code",
      "metadata": {
        "colab": {
          "base_uri": "https://localhost:8080/",
          "height": 0
        },
        "id": "HrBDH099qRd1",
        "outputId": "65cb911c-43c0-4ca1-8655-b2dfe890318a"
      },
      "source": [
        "tuple(range(5))"
      ],
      "execution_count": 24,
      "outputs": [
        {
          "output_type": "execute_result",
          "data": {
            "text/plain": [
              "(0, 1, 2, 3, 4)"
            ]
          },
          "metadata": {
            "tags": []
          },
          "execution_count": 24
        }
      ]
    },
    {
      "cell_type": "markdown",
      "metadata": {
        "id": "B3M9Tqo_rP27"
      },
      "source": [
        "### 리스트<--> 튜플"
      ]
    },
    {
      "cell_type": "code",
      "metadata": {
        "colab": {
          "base_uri": "https://localhost:8080/",
          "height": 0
        },
        "id": "7Xz1y777q27S",
        "outputId": "96d4d93c-4f74-4b7d-c547-1d82576b6d83"
      },
      "source": [
        "a= [1,3,4]\n",
        "b= tuple(a)\n",
        "b"
      ],
      "execution_count": 25,
      "outputs": [
        {
          "output_type": "execute_result",
          "data": {
            "text/plain": [
              "(1, 3, 4)"
            ]
          },
          "metadata": {
            "tags": []
          },
          "execution_count": 25
        }
      ]
    },
    {
      "cell_type": "code",
      "metadata": {
        "colab": {
          "base_uri": "https://localhost:8080/",
          "height": 0
        },
        "id": "PkolSs3ZrVfW",
        "outputId": "d2478578-e4cf-4267-8462-69293b968d71"
      },
      "source": [
        "c= list(b)\n",
        "c\n"
      ],
      "execution_count": 26,
      "outputs": [
        {
          "output_type": "execute_result",
          "data": {
            "text/plain": [
              "[1, 3, 4]"
            ]
          },
          "metadata": {
            "tags": []
          },
          "execution_count": 26
        }
      ]
    },
    {
      "cell_type": "markdown",
      "metadata": {
        "id": "ojHpgg_zrjRB"
      },
      "source": [
        "### 문자열"
      ]
    },
    {
      "cell_type": "code",
      "metadata": {
        "colab": {
          "base_uri": "https://localhost:8080/",
          "height": 0
        },
        "id": "sMdjSetsrW_b",
        "outputId": "90960599-9b3e-4f40-a020-552e1e90c6ad"
      },
      "source": [
        "tuple('Hello')"
      ],
      "execution_count": 27,
      "outputs": [
        {
          "output_type": "execute_result",
          "data": {
            "text/plain": [
              "('H', 'e', 'l', 'l', 'o')"
            ]
          },
          "metadata": {
            "tags": []
          },
          "execution_count": 27
        }
      ]
    },
    {
      "cell_type": "code",
      "metadata": {
        "colab": {
          "base_uri": "https://localhost:8080/",
          "height": 0
        },
        "id": "Qn3TcI7Rrofu",
        "outputId": "969a2b85-e963-415a-e70f-52fb018fb4af"
      },
      "source": [
        "list('안녕하세요')"
      ],
      "execution_count": 28,
      "outputs": [
        {
          "output_type": "execute_result",
          "data": {
            "text/plain": [
              "['안', '녕', '하', '세', '요']"
            ]
          },
          "metadata": {
            "tags": []
          },
          "execution_count": 28
        }
      ]
    },
    {
      "cell_type": "markdown",
      "metadata": {
        "id": "0UECeY03sZfG"
      },
      "source": [
        "###언팩킹(Unpacking)"
      ]
    },
    {
      "cell_type": "code",
      "metadata": {
        "id": "qaTEO6BGrq4c"
      },
      "source": [
        "# tuple unpacking"
      ],
      "execution_count": 29,
      "outputs": []
    },
    {
      "cell_type": "code",
      "metadata": {
        "colab": {
          "base_uri": "https://localhost:8080/",
          "height": 0
        },
        "id": "V-YgNrivseHK",
        "outputId": "e5b383c8-61e7-4756-998e-7589f65fbc78"
      },
      "source": [
        "a = (1,3,4)\n",
        "x,y,z=a\n",
        "x,y,z"
      ],
      "execution_count": 30,
      "outputs": [
        {
          "output_type": "execute_result",
          "data": {
            "text/plain": [
              "(1, 3, 4)"
            ]
          },
          "metadata": {
            "tags": []
          },
          "execution_count": 30
        }
      ]
    },
    {
      "cell_type": "code",
      "metadata": {
        "id": "F6ekeIhvshlG"
      },
      "source": [
        "#list unpacking"
      ],
      "execution_count": 31,
      "outputs": []
    },
    {
      "cell_type": "code",
      "metadata": {
        "colab": {
          "base_uri": "https://localhost:8080/",
          "height": 0
        },
        "id": "A63llGE1sjdf",
        "outputId": "94b533ae-9268-4c1d-96a0-dbb89a3a8e01"
      },
      "source": [
        "x,y,z=[1,3,5]\n",
        "x,y,z"
      ],
      "execution_count": 33,
      "outputs": [
        {
          "output_type": "execute_result",
          "data": {
            "text/plain": [
              "(1, 3, 5)"
            ]
          },
          "metadata": {
            "tags": []
          },
          "execution_count": 33
        }
      ]
    },
    {
      "cell_type": "code",
      "metadata": {
        "colab": {
          "base_uri": "https://localhost:8080/",
          "height": 0
        },
        "id": "-49i14sssmOP",
        "outputId": "7d53fbd6-48bf-4aca-a160-9d7120c4981c"
      },
      "source": [
        "x"
      ],
      "execution_count": 34,
      "outputs": [
        {
          "output_type": "execute_result",
          "data": {
            "text/plain": [
              "1"
            ]
          },
          "metadata": {
            "tags": []
          },
          "execution_count": 34
        }
      ]
    },
    {
      "cell_type": "code",
      "metadata": {
        "colab": {
          "base_uri": "https://localhost:8080/",
          "height": 0
        },
        "id": "o_30sjRlsowA",
        "outputId": "7a041476-97e3-4e39-f674-92300d7507ea"
      },
      "source": [
        "y"
      ],
      "execution_count": 35,
      "outputs": [
        {
          "output_type": "execute_result",
          "data": {
            "text/plain": [
              "3"
            ]
          },
          "metadata": {
            "tags": []
          },
          "execution_count": 35
        }
      ]
    },
    {
      "cell_type": "code",
      "metadata": {
        "colab": {
          "base_uri": "https://localhost:8080/",
          "height": 0
        },
        "id": "R21Hr-HIspU6",
        "outputId": "4b67553f-6245-462c-89fb-1633d453ec99"
      },
      "source": [
        "x,y"
      ],
      "execution_count": 36,
      "outputs": [
        {
          "output_type": "execute_result",
          "data": {
            "text/plain": [
              "(1, 3)"
            ]
          },
          "metadata": {
            "tags": []
          },
          "execution_count": 36
        }
      ]
    },
    {
      "cell_type": "code",
      "metadata": {
        "id": "mk5WkXqJsqJN"
      },
      "source": [
        ""
      ],
      "execution_count": null,
      "outputs": []
    }
  ]
}