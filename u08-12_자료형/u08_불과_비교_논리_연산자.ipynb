{
  "nbformat": 4,
  "nbformat_minor": 0,
  "metadata": {
    "colab": {
      "name": "u08_불과 비교/논리 연산자.ipynb",
      "provenance": [],
      "collapsed_sections": []
    },
    "kernelspec": {
      "name": "python3",
      "display_name": "Python 3"
    },
    "language_info": {
      "name": "python"
    }
  },
  "cells": [
    {
      "cell_type": "markdown",
      "metadata": {
        "id": "pztowycyewu1"
      },
      "source": [
        "# Unit 8. 불과 비교/논리 연산자"
      ]
    },
    {
      "cell_type": "markdown",
      "metadata": {
        "id": "kdN3-C-De2YP"
      },
      "source": [
        "##8.1 불(Bool)과 비교 연산자"
      ]
    },
    {
      "cell_type": "code",
      "metadata": {
        "colab": {
          "base_uri": "https://localhost:8080/"
        },
        "id": "4hFSuX8pe7Kl",
        "outputId": "ebd6804f-4eb9-4853-98de-54e347d2e079"
      },
      "source": [
        "True, False"
      ],
      "execution_count": 1,
      "outputs": [
        {
          "output_type": "execute_result",
          "data": {
            "text/plain": [
              "(True, False)"
            ]
          },
          "metadata": {
            "tags": []
          },
          "execution_count": 1
        }
      ]
    },
    {
      "cell_type": "code",
      "metadata": {
        "colab": {
          "base_uri": "https://localhost:8080/"
        },
        "id": "wu_i4J8Je-Vb",
        "outputId": "59a698a9-bb7d-4485-d847-04182f56980e"
      },
      "source": [
        "# >, >=, <, <=, ==, !=\n",
        "10 >=5"
      ],
      "execution_count": 2,
      "outputs": [
        {
          "output_type": "execute_result",
          "data": {
            "text/plain": [
              "True"
            ]
          },
          "metadata": {
            "tags": []
          },
          "execution_count": 2
        }
      ]
    },
    {
      "cell_type": "code",
      "metadata": {
        "colab": {
          "base_uri": "https://localhost:8080/"
        },
        "id": "MTkmuMPdgg34",
        "outputId": "f0049679-c99f-42a5-d8ee-11295397410c"
      },
      "source": [
        "A=10 !=5\n",
        "A"
      ],
      "execution_count": 3,
      "outputs": [
        {
          "output_type": "execute_result",
          "data": {
            "text/plain": [
              "True"
            ]
          },
          "metadata": {
            "tags": []
          },
          "execution_count": 3
        }
      ]
    },
    {
      "cell_type": "code",
      "metadata": {
        "colab": {
          "base_uri": "https://localhost:8080/"
        },
        "id": "oIxzkKK4gjRR",
        "outputId": "2e6fa235-c90a-43eb-bfde-953d88c81846"
      },
      "source": [
        "'Python' == 'python'"
      ],
      "execution_count": 4,
      "outputs": [
        {
          "output_type": "execute_result",
          "data": {
            "text/plain": [
              "False"
            ]
          },
          "metadata": {
            "tags": []
          },
          "execution_count": 4
        }
      ]
    },
    {
      "cell_type": "code",
      "metadata": {
        "colab": {
          "base_uri": "https://localhost:8080/"
        },
        "id": "Ev5_zm4ZgnuZ",
        "outputId": "dda555ea-5388-420f-df82-25f9c242fd0e"
      },
      "source": [
        "'Python' == 'Python'"
      ],
      "execution_count": 5,
      "outputs": [
        {
          "output_type": "execute_result",
          "data": {
            "text/plain": [
              "True"
            ]
          },
          "metadata": {
            "tags": []
          },
          "execution_count": 5
        }
      ]
    },
    {
      "cell_type": "markdown",
      "metadata": {
        "id": "Ay7tTXi1jSgS"
      },
      "source": [
        "## 8.2 논리연산자\n",
        "- and, or, not"
      ]
    },
    {
      "cell_type": "code",
      "metadata": {
        "colab": {
          "base_uri": "https://localhost:8080/"
        },
        "id": "uBBwUMkejUEU",
        "outputId": "3f726f45-0ae9-4008-e2f0-c6978d5ed9f1"
      },
      "source": [
        "not True and False or not False"
      ],
      "execution_count": 6,
      "outputs": [
        {
          "output_type": "execute_result",
          "data": {
            "text/plain": [
              "True"
            ]
          },
          "metadata": {
            "tags": []
          },
          "execution_count": 6
        }
      ]
    },
    {
      "cell_type": "code",
      "metadata": {
        "colab": {
          "base_uri": "https://localhost:8080/"
        },
        "id": "3ipfFLZEkUA-",
        "outputId": "87ea0826-c7df-43cb-cc3f-2590f2cc67d9"
      },
      "source": [
        "((not True)and False) or (not False)"
      ],
      "execution_count": 7,
      "outputs": [
        {
          "output_type": "execute_result",
          "data": {
            "text/plain": [
              "True"
            ]
          },
          "metadata": {
            "tags": []
          },
          "execution_count": 7
        }
      ]
    },
    {
      "cell_type": "code",
      "metadata": {
        "colab": {
          "base_uri": "https://localhost:8080/"
        },
        "id": "F5jolEkIkZea",
        "outputId": "6ec8417d-8b93-4682-e620-a6c6fd652838"
      },
      "source": [
        "# x > 10 , x < 5\n",
        "x = 6\n",
        "x > 10 or x< 5"
      ],
      "execution_count": 9,
      "outputs": [
        {
          "output_type": "execute_result",
          "data": {
            "text/plain": [
              "False"
            ]
          },
          "metadata": {
            "tags": []
          },
          "execution_count": 9
        }
      ]
    },
    {
      "cell_type": "code",
      "metadata": {
        "colab": {
          "base_uri": "https://localhost:8080/"
        },
        "id": "c7N4mDvkkjIG",
        "outputId": "9b9ef222-260a-4633-dad0-6ade15132ed0"
      },
      "source": [
        "# 5 < x < 10\n",
        "x > 5 and x < 10"
      ],
      "execution_count": 10,
      "outputs": [
        {
          "output_type": "execute_result",
          "data": {
            "text/plain": [
              "True"
            ]
          },
          "metadata": {
            "tags": []
          },
          "execution_count": 10
        }
      ]
    },
    {
      "cell_type": "code",
      "metadata": {
        "id": "a_ZCtu0UkslD"
      },
      "source": [
        "# 파이썬에서만 쓸 수 있는 표현"
      ],
      "execution_count": 11,
      "outputs": []
    },
    {
      "cell_type": "code",
      "metadata": {
        "colab": {
          "base_uri": "https://localhost:8080/"
        },
        "id": "DGHz2k7Fk4FW",
        "outputId": "bfd3b617-1a51-46e1-e4aa-c82aa27c0766"
      },
      "source": [
        "5 < x < 10"
      ],
      "execution_count": 12,
      "outputs": [
        {
          "output_type": "execute_result",
          "data": {
            "text/plain": [
              "True"
            ]
          },
          "metadata": {
            "tags": []
          },
          "execution_count": 12
        }
      ]
    },
    {
      "cell_type": "markdown",
      "metadata": {
        "id": "brR6sGQ-lI--"
      },
      "source": [
        "### 정수, 실수, 문자열"
      ]
    },
    {
      "cell_type": "code",
      "metadata": {
        "colab": {
          "base_uri": "https://localhost:8080/"
        },
        "id": "Q7YclFXdlLjl",
        "outputId": "775df439-d128-44c2-e373-50e7e8ec1e02"
      },
      "source": [
        "bool(0), bool(1), bool(4)"
      ],
      "execution_count": 13,
      "outputs": [
        {
          "output_type": "execute_result",
          "data": {
            "text/plain": [
              "(False, True, True)"
            ]
          },
          "metadata": {
            "tags": []
          },
          "execution_count": 13
        }
      ]
    },
    {
      "cell_type": "code",
      "metadata": {
        "colab": {
          "base_uri": "https://localhost:8080/"
        },
        "id": "iwMJJ2QQljTV",
        "outputId": "7c88ba19-9113-4b95-db48-9ed715471d6c"
      },
      "source": [
        "bool(0.0), bool(1.), bool(-4.)"
      ],
      "execution_count": 15,
      "outputs": [
        {
          "output_type": "execute_result",
          "data": {
            "text/plain": [
              "(False, True, True)"
            ]
          },
          "metadata": {
            "tags": []
          },
          "execution_count": 15
        }
      ]
    },
    {
      "cell_type": "code",
      "metadata": {
        "colab": {
          "base_uri": "https://localhost:8080/"
        },
        "id": "hsDS7Svilmra",
        "outputId": "9b935ef4-2928-47d0-fd45-464dc00746f5"
      },
      "source": [
        "bool(''), bool('s')"
      ],
      "execution_count": 16,
      "outputs": [
        {
          "output_type": "execute_result",
          "data": {
            "text/plain": [
              "(False, True)"
            ]
          },
          "metadata": {
            "tags": []
          },
          "execution_count": 16
        }
      ]
    },
    {
      "cell_type": "code",
      "metadata": {
        "id": "JhZbRptHlsDV"
      },
      "source": [
        ""
      ],
      "execution_count": null,
      "outputs": []
    }
  ]
}