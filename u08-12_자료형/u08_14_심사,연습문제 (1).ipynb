{
  "nbformat": 4,
  "nbformat_minor": 0,
  "metadata": {
    "colab": {
      "name": "u08~14 심사,연습문제.ipynb",
      "provenance": [],
      "collapsed_sections": [],
      "toc_visible": true
    },
    "kernelspec": {
      "name": "python3",
      "display_name": "Python 3"
    },
    "language_info": {
      "name": "python"
    }
  },
  "cells": [
    {
      "cell_type": "markdown",
      "metadata": {
        "id": "Ppm_wovrBOK-"
      },
      "source": [
        "# Unit_08 불과 비교연산자 사용하기"
      ]
    },
    {
      "cell_type": "markdown",
      "metadata": {
        "id": "gZmCz81VBbS1"
      },
      "source": [
        "## 8.4 연습문제 : 합격여부 출력하기"
      ]
    },
    {
      "cell_type": "code",
      "metadata": {
        "colab": {
          "base_uri": "https://localhost:8080/"
        },
        "id": "FPUVlpA6BfOI",
        "outputId": "635349a1-9cdc-41d4-c5a8-eb2b4bf280d1"
      },
      "source": [
        "korean = 92 \n",
        "english = 47\n",
        "mathematics = 86\n",
        "science =81\n",
        "\n",
        "print(korean >= 50 and english >= 50 and mathematics >= 50 and science>= 50)"
      ],
      "execution_count": 4,
      "outputs": [
        {
          "output_type": "stream",
          "text": [
            "False\n"
          ],
          "name": "stdout"
        }
      ]
    },
    {
      "cell_type": "markdown",
      "metadata": {
        "id": "MYm7d8iWB-CL"
      },
      "source": [
        "## 8.5 심사문제 : 합격여부 출력하기"
      ]
    },
    {
      "cell_type": "code",
      "metadata": {
        "colab": {
          "base_uri": "https://localhost:8080/"
        },
        "id": "wqw7W7iMCBBj",
        "outputId": "f4aece80-5d99-49d7-d9b1-cd39e515db98"
      },
      "source": [
        "korean, english, mathematics, science = map(int, input().split())\n",
        "\n",
        "print(korean >= 90 and english > 80 and mathematics > 85 and science>= 80)"
      ],
      "execution_count": 8,
      "outputs": [
        {
          "output_type": "stream",
          "text": [
            "90 80 85 80\n",
            "False\n"
          ],
          "name": "stdout"
        }
      ]
    },
    {
      "cell_type": "markdown",
      "metadata": {
        "id": "grc0YNeqDOqd"
      },
      "source": [
        "# Unit_09 문자열 사용하기"
      ]
    },
    {
      "cell_type": "markdown",
      "metadata": {
        "id": "NzjUQi5yDTQC"
      },
      "source": [
        "## 9.3 연습문제 : 여러 줄로 된 문자열 사용하기"
      ]
    },
    {
      "cell_type": "code",
      "metadata": {
        "colab": {
          "base_uri": "https://localhost:8080/"
        },
        "id": "LvuLYOoxDSSF",
        "outputId": "47d58aaa-0295-4cdd-99d1-827e51ed5443"
      },
      "source": [
        "s = '''Python is a programming language that lets you work quickly\n",
        "and\n",
        "integrate systems more effectively.'''\n",
        "\n",
        "print(s)"
      ],
      "execution_count": 10,
      "outputs": [
        {
          "output_type": "stream",
          "text": [
            "Python is a programming language that lets you work quickly\n",
            "and\n",
            "integrate systems more effectively.\n"
          ],
          "name": "stdout"
        }
      ]
    },
    {
      "cell_type": "markdown",
      "metadata": {
        "id": "dr-zLfL_DirR"
      },
      "source": [
        "##9.4 심사문제 : 여러 줄로 된 문자열 사용하기"
      ]
    },
    {
      "cell_type": "code",
      "metadata": {
        "colab": {
          "base_uri": "https://localhost:8080/"
        },
        "id": "ihRXtJwjDieT",
        "outputId": "5ae6748c-876d-4ccf-cf09-ae69c940c73f"
      },
      "source": [
        "s =\"\"\"'Python' is a \"programming language\"\n",
        "that lets you work quickly\n",
        "and\n",
        "integrate systems more effectively.\"\"\"\n",
        "\n",
        "print(s)"
      ],
      "execution_count": 16,
      "outputs": [
        {
          "output_type": "stream",
          "text": [
            "'Python' is a \"programming language\"\n",
            "that lets you work quickly\n",
            "and\n",
            "integrate systems more effectively.\n"
          ],
          "name": "stdout"
        }
      ]
    },
    {
      "cell_type": "markdown",
      "metadata": {
        "id": "TwHDVIiAE4SD"
      },
      "source": [
        "#Unit_10 리스트와 튜플 사용하기"
      ]
    },
    {
      "cell_type": "markdown",
      "metadata": {
        "id": "e5ZV46oXE8jC"
      },
      "source": [
        "##10.4 연습문제 : range로 리스트 만들기"
      ]
    },
    {
      "cell_type": "code",
      "metadata": {
        "colab": {
          "base_uri": "https://localhost:8080/"
        },
        "id": "JI3e2sbME8Gw",
        "outputId": "422d8992-dda2-475c-9af7-5bfad489f7e0"
      },
      "source": [
        "a = list(range(5, -10, -2))\n",
        "\n",
        "print(a)"
      ],
      "execution_count": 17,
      "outputs": [
        {
          "output_type": "stream",
          "text": [
            "[5, 3, 1, -1, -3, -5, -7, -9]\n"
          ],
          "name": "stdout"
        }
      ]
    },
    {
      "cell_type": "markdown",
      "metadata": {
        "id": "ziCm55YLFGuz"
      },
      "source": [
        "##10.5 심사문제 : range로 튜플 만들기"
      ]
    },
    {
      "cell_type": "code",
      "metadata": {
        "colab": {
          "base_uri": "https://localhost:8080/"
        },
        "id": "tmZWyr4fFKLS",
        "outputId": "f6ff03eb-65bb-46ff-e3d1-0d9a558627bd"
      },
      "source": [
        "a = int(input())\n",
        "\n",
        "b = tuple(range(-10, 10, a))\n",
        "\n",
        "print(b)"
      ],
      "execution_count": 20,
      "outputs": [
        {
          "output_type": "stream",
          "text": [
            "3\n",
            "(-10, -7, -4, -1, 2, 5, 8)\n"
          ],
          "name": "stdout"
        }
      ]
    },
    {
      "cell_type": "markdown",
      "metadata": {
        "id": "TqloU_4qFolf"
      },
      "source": [
        "#Unit_11 시퀸스 자료형 활용하기"
      ]
    },
    {
      "cell_type": "markdown",
      "metadata": {
        "id": "JtxLZAPlFu3b"
      },
      "source": [
        "## 11.6 연습문제 : 최근 3년간 인구 출력하기"
      ]
    },
    {
      "cell_type": "code",
      "metadata": {
        "colab": {
          "base_uri": "https://localhost:8080/"
        },
        "id": "GWNliTOGFuWJ",
        "outputId": "c3d28eb5-ebf7-48a0-f331-aa297f9a9f7c"
      },
      "source": [
        "year = [2011, 2012, 2013, 2014, 2015, 2016, 2017, 2018]\n",
        "population = [10249679, 10195318, 10143645, 10103233, 10022181, 9930616, 9857426, 9838892]\n",
        "print(year[-3:])\n",
        "print(population[-3:])"
      ],
      "execution_count": 24,
      "outputs": [
        {
          "output_type": "stream",
          "text": [
            "[2016, 2017, 2018]\n",
            "[9930616, 9857426, 9838892]\n"
          ],
          "name": "stdout"
        }
      ]
    },
    {
      "cell_type": "markdown",
      "metadata": {
        "id": "kXMbRh79GZp_"
      },
      "source": [
        "##11.7 연습문제: 인덱스가 홀수인 요소 출력하기"
      ]
    },
    {
      "cell_type": "code",
      "metadata": {
        "colab": {
          "base_uri": "https://localhost:8080/"
        },
        "id": "KNJJKvHmGcgH",
        "outputId": "e3fd1350-910a-41e3-e7ef-3606a8334ac1"
      },
      "source": [
        "n = -32, 75, 97, -10, 9, 32, 4, -15, 0, 76, 14, 2\n",
        "\n",
        "print(n[1:12:2])"
      ],
      "execution_count": 26,
      "outputs": [
        {
          "output_type": "stream",
          "text": [
            "(75, -10, 32, -15, 76, 2)\n"
          ],
          "name": "stdout"
        }
      ]
    },
    {
      "cell_type": "markdown",
      "metadata": {
        "id": "_Dzlnh-xGxAK"
      },
      "source": [
        "##11.8 심사문제: 리스트의 마지막 부분 삭제하기"
      ]
    },
    {
      "cell_type": "code",
      "metadata": {
        "colab": {
          "base_uri": "https://localhost:8080/"
        },
        "id": "8h1wkI9WG7EC",
        "outputId": "a08ef473-0761-43ba-d9b7-8c0c060dc24e"
      },
      "source": [
        "x= input().split()\n",
        "del x[-5:]\n",
        "print(tuple(x))"
      ],
      "execution_count": 41,
      "outputs": [
        {
          "output_type": "stream",
          "text": [
            "a b c d e f g h i j k\n",
            "('a', 'b', 'c', 'd', 'e', 'f')\n"
          ],
          "name": "stdout"
        }
      ]
    },
    {
      "cell_type": "code",
      "metadata": {
        "id": "Y6lnlcRWJ0cL"
      },
      "source": [
        ""
      ],
      "execution_count": 41,
      "outputs": []
    },
    {
      "cell_type": "markdown",
      "metadata": {
        "id": "a3_FThWLGw3u"
      },
      "source": [
        "##11.9 심사문제: 문자열에서 인덱스가 홀수인 문자와 짝수인 문자 연결하기2 "
      ]
    },
    {
      "cell_type": "code",
      "metadata": {
        "colab": {
          "base_uri": "https://localhost:8080/"
        },
        "id": "avj9LQvwG5ze",
        "outputId": "71ebb8a5-b4af-4245-dd7d-ead40b465673"
      },
      "source": [
        "a = input()\n",
        "b = input()\n",
        "\n",
        "x = a[1::2]\n",
        "y = b[0::2]\n",
        "print(x+ y)"
      ],
      "execution_count": 47,
      "outputs": [
        {
          "output_type": "stream",
          "text": [
            "apple\n",
            "strawberry\n",
            "plsrwer\n"
          ],
          "name": "stdout"
        }
      ]
    },
    {
      "cell_type": "markdown",
      "metadata": {
        "id": "ibQeQX-rK3pf"
      },
      "source": [
        "#Unit_12 딕셔너리 사용하기"
      ]
    },
    {
      "cell_type": "markdown",
      "metadata": {
        "id": "qk2bLC8UK_cn"
      },
      "source": [
        "##12.4 연습문제: 딕셔너리에 게임 캐릭터 능력치 저장하기"
      ]
    },
    {
      "cell_type": "code",
      "metadata": {
        "colab": {
          "base_uri": "https://localhost:8080/"
        },
        "id": "9GqLyejGK-wF",
        "outputId": "b337a3bf-b778-4b58-e829-88776f21dc62"
      },
      "source": [
        "camille = {\n",
        "    'health': 575.6,\n",
        "    'health_regen': 1.7,\n",
        "    'mana': 338.8,\n",
        "    'mana_regen': 1.63,\n",
        "    'melee': 125,\n",
        "    'attack_damage': 60,\n",
        "    'attack_speed': 0.625,\n",
        "    'armor': 26,\n",
        "    'magic_resistance': 32.1,\n",
        "    'movement_speed': 340\n",
        "}\n",
        " \n",
        "print(camille['health'])\n",
        "print(camille['movement_speed'])"
      ],
      "execution_count": 48,
      "outputs": [
        {
          "output_type": "stream",
          "text": [
            "575.6\n",
            "340\n"
          ],
          "name": "stdout"
        }
      ]
    },
    {
      "cell_type": "markdown",
      "metadata": {
        "id": "rHljZhD3LBkQ"
      },
      "source": [
        "##12.5 심사문제: 딕셔너리에 게임 캐릭터 능력치 저장하기"
      ]
    },
    {
      "cell_type": "code",
      "metadata": {
        "colab": {
          "base_uri": "https://localhost:8080/"
        },
        "id": "GtWiKFc0LDzp",
        "outputId": "c2ee6d79-f5d6-4aab-baf5-3a1df328318e"
      },
      "source": [
        "a = input().split()\n",
        "b = map(float, input().split())\n",
        "\n",
        "x = dict(zip(a,b))\n",
        "print(x)"
      ],
      "execution_count": 51,
      "outputs": [
        {
          "output_type": "stream",
          "text": [
            "health health_regen mana mana_regen\n",
            "575.6 1.7 338.8 1.63\n",
            "{'health': 575.6, 'health_regen': 1.7, 'mana': 338.8, 'mana_regen': 1.63}\n"
          ],
          "name": "stdout"
        }
      ]
    },
    {
      "cell_type": "markdown",
      "metadata": {
        "id": "Fona-WVGM8eZ"
      },
      "source": [
        "#Unit 13 if조건문으로 특정 조건일때 코드 실행하기"
      ]
    },
    {
      "cell_type": "markdown",
      "metadata": {
        "id": "QTCfsFkFNB58"
      },
      "source": [
        "##13.6 연습문제: if 조건문 사용하기"
      ]
    },
    {
      "cell_type": "code",
      "metadata": {
        "colab": {
          "base_uri": "https://localhost:8080/"
        },
        "id": "uMSHRxcINBPh",
        "outputId": "66a5475d-c020-4f26-c1fc-972d4481eb1a"
      },
      "source": [
        "x = 5\n",
        " \n",
        "if       x != 10                  :\n",
        "    print('ok')"
      ],
      "execution_count": 52,
      "outputs": [
        {
          "output_type": "stream",
          "text": [
            "ok\n"
          ],
          "name": "stdout"
        }
      ]
    },
    {
      "cell_type": "markdown",
      "metadata": {
        "id": "j5b1GMzkNGQr"
      },
      "source": [
        "##13.7 심사문제: 온라인 할인 쿠폰 시스템 만들기"
      ]
    },
    {
      "cell_type": "code",
      "metadata": {
        "colab": {
          "base_uri": "https://localhost:8080/"
        },
        "id": "DJsNEnnzNH3_",
        "outputId": "5fc9f64a-e5b7-4bc7-8016-0eb2ffd6e670"
      },
      "source": [
        "a = int(input())\n",
        "b = input()\n",
        "if b == 'cash3000'  :\n",
        "  print(a-3000)\n",
        "if b == 'cash5000' :\n",
        "  print(a-5000)\n",
        "  "
      ],
      "execution_count": 64,
      "outputs": [
        {
          "output_type": "stream",
          "text": [
            "70000\n",
            "cash5000\n",
            "65000\n"
          ],
          "name": "stdout"
        }
      ]
    },
    {
      "cell_type": "markdown",
      "metadata": {
        "id": "5P3VACnoP1UW"
      },
      "source": [
        "#Unit 14. else를 사용하여 두 방향으로 분기하기"
      ]
    },
    {
      "cell_type": "markdown",
      "metadata": {
        "id": "hpWUg4IdP49d"
      },
      "source": [
        "##14.6 연습문제: 합격 여부 판단하기"
      ]
    },
    {
      "cell_type": "code",
      "metadata": {
        "colab": {
          "base_uri": "https://localhost:8080/"
        },
        "id": "YgvFl4jpP4Jb",
        "outputId": "d70410ed-d84b-4b11-bc7c-6e854842a8a5"
      },
      "source": [
        "written_test = 75\n",
        "coding_test = True\n",
        " \n",
        "if written_test >= 80 and coding_test == True:\n",
        "    print('합격')\n",
        "else:\n",
        "    print('불합격')"
      ],
      "execution_count": 65,
      "outputs": [
        {
          "output_type": "stream",
          "text": [
            "불합격\n"
          ],
          "name": "stdout"
        }
      ]
    },
    {
      "cell_type": "markdown",
      "metadata": {
        "id": "7cqQ0nRJP850"
      },
      "source": [
        "##14.7 심사문제: 합격 여부 판단하기"
      ]
    },
    {
      "cell_type": "code",
      "metadata": {
        "colab": {
          "base_uri": "https://localhost:8080/"
        },
        "id": "zfaPSVj2P-y-",
        "outputId": "661006e6-ec29-4d1f-ceec-9fb554e4ed49"
      },
      "source": [
        "korean, english, math, science = map(int, input().split())\n",
        "if  0 <= korean <= 100 and 0 <= english <= 100 and 0 <= math <= 100 and 0 <= science <= 100 :\n",
        "    if (korean + english + math + science) >= 80 :\n",
        "       print('합격')\n",
        "    else  : \n",
        "      print('불합격')\n",
        "else:\n",
        "  print('잘못된 점수 ')"
      ],
      "execution_count": 76,
      "outputs": [
        {
          "output_type": "stream",
          "text": [
            "105 101 80 92\n",
            "잘못된 점수 \n"
          ],
          "name": "stdout"
        }
      ]
    }
  ]
}