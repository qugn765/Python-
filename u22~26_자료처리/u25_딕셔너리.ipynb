{
  "nbformat": 4,
  "nbformat_minor": 0,
  "metadata": {
    "colab": {
      "name": "u25_딕셔너리.ipynb",
      "provenance": [],
      "collapsed_sections": []
    },
    "kernelspec": {
      "name": "python3",
      "display_name": "Python 3"
    },
    "language_info": {
      "name": "python"
    }
  },
  "cells": [
    {
      "cell_type": "markdown",
      "metadata": {
        "id": "QUuyj7Ssfsa6"
      },
      "source": [
        "# Unit 25. 딕셔너리 응용"
      ]
    },
    {
      "cell_type": "markdown",
      "metadata": {
        "id": "-kJXWWT9fvCZ"
      },
      "source": [
        "## 25.1 딕셔너리 조작"
      ]
    },
    {
      "cell_type": "code",
      "metadata": {
        "colab": {
          "base_uri": "https://localhost:8080/"
        },
        "id": "pJzUOaNXfZeX",
        "outputId": "28670bbf-2037-4520-cf82-ff523470f989"
      },
      "source": [
        "x = {'a':10, 'b':20, 'c':30, 'd':40}\n",
        "y = x.setdefault('e', 100)\n",
        "x, y"
      ],
      "execution_count": 1,
      "outputs": [
        {
          "output_type": "execute_result",
          "data": {
            "text/plain": [
              "({'a': 10, 'b': 20, 'c': 30, 'd': 40, 'e': 100}, 100)"
            ]
          },
          "metadata": {
            "tags": []
          },
          "execution_count": 1
        }
      ]
    },
    {
      "cell_type": "code",
      "metadata": {
        "colab": {
          "base_uri": "https://localhost:8080/"
        },
        "id": "KblyllaNfyTj",
        "outputId": "d10417a7-3baa-42de-ae75-75fe14408b5f"
      },
      "source": [
        "x = {'a':10, 'b':20, 'c':30, 'd':40}\n",
        "x.update(a=90)\n",
        "x"
      ],
      "execution_count": 2,
      "outputs": [
        {
          "output_type": "execute_result",
          "data": {
            "text/plain": [
              "{'a': 90, 'b': 20, 'c': 30, 'd': 40}"
            ]
          },
          "metadata": {
            "tags": []
          },
          "execution_count": 2
        }
      ]
    },
    {
      "cell_type": "code",
      "metadata": {
        "colab": {
          "base_uri": "https://localhost:8080/"
        },
        "id": "Zgtlkqugfzzd",
        "outputId": "5b285d7b-ded6-4485-cbda-ac83f97f90be"
      },
      "source": [
        "x.update(e=100)\n",
        "x"
      ],
      "execution_count": 3,
      "outputs": [
        {
          "output_type": "execute_result",
          "data": {
            "text/plain": [
              "{'a': 90, 'b': 20, 'c': 30, 'd': 40, 'e': 100}"
            ]
          },
          "metadata": {
            "tags": []
          },
          "execution_count": 3
        }
      ]
    },
    {
      "cell_type": "code",
      "metadata": {
        "colab": {
          "base_uri": "https://localhost:8080/"
        },
        "id": "s20Am5o8f1bB",
        "outputId": "2d8f59d6-71b3-4b4f-b1ee-f35a9557eabe"
      },
      "source": [
        "x = {'a':10, 'b':20, 'c':30, 'd':40}\n",
        "x['e'] = 100\n",
        "x"
      ],
      "execution_count": 4,
      "outputs": [
        {
          "output_type": "execute_result",
          "data": {
            "text/plain": [
              "{'a': 10, 'b': 20, 'c': 30, 'd': 40, 'e': 100}"
            ]
          },
          "metadata": {
            "tags": []
          },
          "execution_count": 4
        }
      ]
    },
    {
      "cell_type": "code",
      "metadata": {
        "colab": {
          "base_uri": "https://localhost:8080/"
        },
        "id": "VRfr_wPAf3Dr",
        "outputId": "49a34647-3fca-4482-d9bd-0e0ce98c6670"
      },
      "source": [
        "x['a'] = 90\n",
        "x"
      ],
      "execution_count": 5,
      "outputs": [
        {
          "output_type": "execute_result",
          "data": {
            "text/plain": [
              "{'a': 90, 'b': 20, 'c': 30, 'd': 40, 'e': 100}"
            ]
          },
          "metadata": {
            "tags": []
          },
          "execution_count": 5
        }
      ]
    },
    {
      "cell_type": "code",
      "metadata": {
        "colab": {
          "base_uri": "https://localhost:8080/"
        },
        "id": "z2QU1cUyf6_R",
        "outputId": "325b6126-5c97-484f-b35e-84448b318499"
      },
      "source": [
        "x.pop('e')"
      ],
      "execution_count": 6,
      "outputs": [
        {
          "output_type": "execute_result",
          "data": {
            "text/plain": [
              "100"
            ]
          },
          "metadata": {
            "tags": []
          },
          "execution_count": 6
        }
      ]
    },
    {
      "cell_type": "code",
      "metadata": {
        "colab": {
          "base_uri": "https://localhost:8080/"
        },
        "id": "2ROQ7zGhf8bu",
        "outputId": "feb11ec2-f64d-49d1-e39d-c7148938a1f7"
      },
      "source": [
        "x"
      ],
      "execution_count": 7,
      "outputs": [
        {
          "output_type": "execute_result",
          "data": {
            "text/plain": [
              "{'a': 90, 'b': 20, 'c': 30, 'd': 40}"
            ]
          },
          "metadata": {
            "tags": []
          },
          "execution_count": 7
        }
      ]
    },
    {
      "cell_type": "code",
      "metadata": {
        "colab": {
          "base_uri": "https://localhost:8080/"
        },
        "id": "a32vDTL4f9wm",
        "outputId": "3655eb32-c8f1-4ba6-a7dd-bdf4f0d523d4"
      },
      "source": [
        "x.get('c')"
      ],
      "execution_count": 8,
      "outputs": [
        {
          "output_type": "execute_result",
          "data": {
            "text/plain": [
              "30"
            ]
          },
          "metadata": {
            "tags": []
          },
          "execution_count": 8
        }
      ]
    },
    {
      "cell_type": "code",
      "metadata": {
        "colab": {
          "base_uri": "https://localhost:8080/"
        },
        "id": "QBGP78IYf_Sj",
        "outputId": "b7a03628-832d-4e42-b1da-2ef00ac67427"
      },
      "source": [
        "x['c']"
      ],
      "execution_count": 9,
      "outputs": [
        {
          "output_type": "execute_result",
          "data": {
            "text/plain": [
              "30"
            ]
          },
          "metadata": {
            "tags": []
          },
          "execution_count": 9
        }
      ]
    },
    {
      "cell_type": "markdown",
      "metadata": {
        "id": "BIVuboyCgBXX"
      },
      "source": [
        "### 키-값쌍 모두 가져오기"
      ]
    },
    {
      "cell_type": "code",
      "metadata": {
        "colab": {
          "base_uri": "https://localhost:8080/"
        },
        "id": "WcNDgCTIgAvw",
        "outputId": "057007e1-c257-4351-f763-068ab8170448"
      },
      "source": [
        "x = {'a':10, 'b':20, 'c':30, 'd':40}\n",
        "x.items()"
      ],
      "execution_count": 10,
      "outputs": [
        {
          "output_type": "execute_result",
          "data": {
            "text/plain": [
              "dict_items([('a', 10), ('b', 20), ('c', 30), ('d', 40)])"
            ]
          },
          "metadata": {
            "tags": []
          },
          "execution_count": 10
        }
      ]
    },
    {
      "cell_type": "code",
      "metadata": {
        "colab": {
          "base_uri": "https://localhost:8080/"
        },
        "id": "2XV81WsvgGtn",
        "outputId": "168da832-6fa8-406c-e3e5-58a479e7c977"
      },
      "source": [
        "x.keys()"
      ],
      "execution_count": 11,
      "outputs": [
        {
          "output_type": "execute_result",
          "data": {
            "text/plain": [
              "dict_keys(['a', 'b', 'c', 'd'])"
            ]
          },
          "metadata": {
            "tags": []
          },
          "execution_count": 11
        }
      ]
    },
    {
      "cell_type": "code",
      "metadata": {
        "colab": {
          "base_uri": "https://localhost:8080/"
        },
        "id": "5HQLFKwPgInX",
        "outputId": "ae2bd9a7-cf65-41cb-b7f1-f0e917173ad4"
      },
      "source": [
        "x.values()"
      ],
      "execution_count": 12,
      "outputs": [
        {
          "output_type": "execute_result",
          "data": {
            "text/plain": [
              "dict_values([10, 20, 30, 40])"
            ]
          },
          "metadata": {
            "tags": []
          },
          "execution_count": 12
        }
      ]
    },
    {
      "cell_type": "markdown",
      "metadata": {
        "id": "N55ojiBvgOqS"
      },
      "source": [
        "### 리스트와 튜플로 딕셔너리 생성하기"
      ]
    },
    {
      "cell_type": "code",
      "metadata": {
        "colab": {
          "base_uri": "https://localhost:8080/"
        },
        "id": "I5APlEVVgRVZ",
        "outputId": "e6a26d29-7a36-4cfa-96c7-0a2b83f79ccb"
      },
      "source": [
        "dict(zip(x.values(), x.keys()))"
      ],
      "execution_count": 13,
      "outputs": [
        {
          "output_type": "execute_result",
          "data": {
            "text/plain": [
              "{10: 'a', 20: 'b', 30: 'c', 40: 'd'}"
            ]
          },
          "metadata": {
            "tags": []
          },
          "execution_count": 13
        }
      ]
    },
    {
      "cell_type": "code",
      "metadata": {
        "colab": {
          "base_uri": "https://localhost:8080/"
        },
        "id": "N4poQ7N8gRMz",
        "outputId": "52b01602-bf8a-4fcc-c346-ed06fd99801f"
      },
      "source": [
        "k = ('a','b','c','d')\n",
        "v = (10,20,30,40)\n",
        "dict(zip(k,v))"
      ],
      "execution_count": 14,
      "outputs": [
        {
          "output_type": "execute_result",
          "data": {
            "text/plain": [
              "{'a': 10, 'b': 20, 'c': 30, 'd': 40}"
            ]
          },
          "metadata": {
            "tags": []
          },
          "execution_count": 14
        }
      ]
    },
    {
      "cell_type": "markdown",
      "metadata": {
        "id": "5O5KQX22gKeL"
      },
      "source": [
        "## 25.2 반복문"
      ]
    },
    {
      "cell_type": "code",
      "metadata": {
        "colab": {
          "base_uri": "https://localhost:8080/"
        },
        "id": "QBPCp1M2gJta",
        "outputId": "15785976-1376-4583-eaf3-3a24d3eec1ad"
      },
      "source": [
        "x = {'a':10, 'b':20, 'c':30, 'd':40}\n",
        "for key, value in x.items():\n",
        "    print(f'{key}:{value}')"
      ],
      "execution_count": 15,
      "outputs": [
        {
          "output_type": "stream",
          "text": [
            "a:10\n",
            "b:20\n",
            "c:30\n",
            "d:40\n"
          ],
          "name": "stdout"
        }
      ]
    },
    {
      "cell_type": "code",
      "metadata": {
        "colab": {
          "base_uri": "https://localhost:8080/"
        },
        "id": "ZuS3VvpVgWtL",
        "outputId": "a97d0d28-9231-44e9-8562-935e1aa52f4d"
      },
      "source": [
        "for key in x.keys():\n",
        "    print(f'{key}:{x[key]}')"
      ],
      "execution_count": 16,
      "outputs": [
        {
          "output_type": "stream",
          "text": [
            "a:10\n",
            "b:20\n",
            "c:30\n",
            "d:40\n"
          ],
          "name": "stdout"
        }
      ]
    },
    {
      "cell_type": "code",
      "metadata": {
        "colab": {
          "base_uri": "https://localhost:8080/"
        },
        "id": "KcYlk1oKgYnN",
        "outputId": "c0fc05ff-a70c-4d9e-c923-4755cdaa40f3"
      },
      "source": [
        "for i, (k, v) in enumerate(x.items()):\n",
        "    print(i, k, v)"
      ],
      "execution_count": 17,
      "outputs": [
        {
          "output_type": "stream",
          "text": [
            "0 a 10\n",
            "1 b 20\n",
            "2 c 30\n",
            "3 d 40\n"
          ],
          "name": "stdout"
        }
      ]
    },
    {
      "cell_type": "markdown",
      "metadata": {
        "id": "dhEGfVl-gclu"
      },
      "source": [
        "## 25.3 딕셔너리 표현식"
      ]
    },
    {
      "cell_type": "code",
      "metadata": {
        "colab": {
          "base_uri": "https://localhost:8080/"
        },
        "id": "4-bbHvaxgaQk",
        "outputId": "c6eb598f-cbeb-47d5-cf47-9465b8f9ecd1"
      },
      "source": [
        "x = {'a':10, 'b':20, 'c':30, 'd':40}\n",
        "x2 = {key: value*value for key, value in x.items()}\n",
        "x2"
      ],
      "execution_count": 18,
      "outputs": [
        {
          "output_type": "execute_result",
          "data": {
            "text/plain": [
              "{'a': 100, 'b': 400, 'c': 900, 'd': 1600}"
            ]
          },
          "metadata": {
            "tags": []
          },
          "execution_count": 18
        }
      ]
    },
    {
      "cell_type": "code",
      "metadata": {
        "colab": {
          "base_uri": "https://localhost:8080/"
        },
        "id": "yV2x6IVlgiI5",
        "outputId": "a3a72715-51ab-4df6-c612-21b1abdbf1fd"
      },
      "source": [
        "x2 = {}\n",
        "for key, value in x.items():\n",
        "    x2[key] = value * value\n",
        "x2"
      ],
      "execution_count": 19,
      "outputs": [
        {
          "output_type": "execute_result",
          "data": {
            "text/plain": [
              "{'a': 100, 'b': 400, 'c': 900, 'd': 1600}"
            ]
          },
          "metadata": {
            "tags": []
          },
          "execution_count": 19
        }
      ]
    },
    {
      "cell_type": "markdown",
      "metadata": {
        "id": "8VRv9o0wglub"
      },
      "source": [
        "## 25.4 딕셔너리 안에서 딕셔너리 사용"
      ]
    },
    {
      "cell_type": "code",
      "metadata": {
        "id": "U-vbQnKZgjvM"
      },
      "source": [
        "terrestrial_planet = {\n",
        "    'Mercury': {\n",
        "        'mean_radius': 2439.7,\n",
        "        'mass': 3.3022E+23,\n",
        "        'orbital_period': 87.969\n",
        "    },\n",
        "    'Venus': {\n",
        "        'mean_radius': 6051.8,\n",
        "        'mass': 4.8676E+24,\n",
        "        'orbital_period': 224.70069,\n",
        "    },\n",
        "    'Earth': {\n",
        "        'mean_radius': 6371.0,\n",
        "        'mass': 5.97219E+24,\n",
        "        'orbital_period': 365.25641,\n",
        "    },\n",
        "    'Mars': {\n",
        "        'mean_radius': 3389.5,\n",
        "        'mass': 6.4185E+23,\n",
        "        'orbital_period': 686.9600,\n",
        "    }\n",
        "}"
      ],
      "execution_count": 20,
      "outputs": []
    },
    {
      "cell_type": "code",
      "metadata": {
        "colab": {
          "base_uri": "https://localhost:8080/"
        },
        "id": "_7i5BbKggrFn",
        "outputId": "03461382-896f-4e82-afa4-1be464d18036"
      },
      "source": [
        "terrestrial_planet['Venus']['mean_radius']"
      ],
      "execution_count": 21,
      "outputs": [
        {
          "output_type": "execute_result",
          "data": {
            "text/plain": [
              "6051.8"
            ]
          },
          "metadata": {
            "tags": []
          },
          "execution_count": 21
        }
      ]
    },
    {
      "cell_type": "code",
      "metadata": {
        "id": "ZNtzM7ODgtN5"
      },
      "source": [
        "result = {'results': {'common': {'countPerPage': '10',\n",
        "   'currentPage': '1',\n",
        "   'errorCode': '0',\n",
        "   'errorMessage': '정상',\n",
        "   'totalCount': '1'},\n",
        "  'juso': [{'admCd': '4215013700',\n",
        "    'bdKdcd': '0',\n",
        "    'bdMgtSn': '4215013700100940000017657',\n",
        "    'bdNm': '경포대',\n",
        "    'buldMnnm': '365',\n",
        "    'buldSlno': '0',\n",
        "    'detBdNmList': '',\n",
        "    'emdNm': '저동',\n",
        "    'emdNo': '03',\n",
        "    'engAddr': '365, Gyeongpo-ro, Gangneung-si, Gangwon-do',\n",
        "    'jibunAddr': '강원도 강릉시 저동 94 경포대',\n",
        "    'liNm': '',\n",
        "    'lnbrMnnm': '94',\n",
        "    'lnbrSlno': '0',\n",
        "    'mtYn': '0',\n",
        "    'rn': '경포로',\n",
        "    'rnMgtSn': '421503220002',\n",
        "    'roadAddr': '강원도 강릉시 경포로 365(저동)',\n",
        "    'roadAddrPart1': '강원도 강릉시 경포로 365',\n",
        "    'roadAddrPart2': '(저동)',\n",
        "    'sggNm': '강릉시',\n",
        "    'siNm': '강원도',\n",
        "    'udrtYn': '0',\n",
        "    'zipNo': '25461'}]}}"
      ],
      "execution_count": 22,
      "outputs": []
    },
    {
      "cell_type": "code",
      "metadata": {
        "colab": {
          "base_uri": "https://localhost:8080/",
          "height": 35
        },
        "id": "tqtJ5CcRgva2",
        "outputId": "067313a0-bfad-43a3-9fa1-2d23fa1e41af"
      },
      "source": [
        "result['results']['juso'][0]['roadAddr']"
      ],
      "execution_count": 23,
      "outputs": [
        {
          "output_type": "execute_result",
          "data": {
            "application/vnd.google.colaboratory.intrinsic+json": {
              "type": "string"
            },
            "text/plain": [
              "'강원도 강릉시 경포로 365(저동)'"
            ]
          },
          "metadata": {
            "tags": []
          },
          "execution_count": 23
        }
      ]
    },
    {
      "cell_type": "code",
      "metadata": {
        "id": "iT07Yf6Jgxid"
      },
      "source": [
        "result = {'documents': [{'address': {'address_name': '강원 강릉시 저동 94',\n",
        "    'b_code': '4215013700',\n",
        "    'h_code': '4215066500',\n",
        "    'main_address_no': '94',\n",
        "    'mountain_yn': 'N',\n",
        "    'region_1depth_name': '강원',\n",
        "    'region_2depth_name': '강릉시',\n",
        "    'region_3depth_h_name': '경포동',\n",
        "    'region_3depth_name': '저동',\n",
        "    'sub_address_no': '',\n",
        "    'x': '128.896538649542',\n",
        "    'y': '37.7955687639648'},\n",
        "   'address_name': '강원 강릉시 경포로 365',\n",
        "   'address_type': 'ROAD_ADDR',\n",
        "   'road_address': {'address_name': '강원 강릉시 경포로 365',\n",
        "    'building_name': '경포대',\n",
        "    'main_building_no': '365',\n",
        "    'region_1depth_name': '강원',\n",
        "    'region_2depth_name': '강릉시',\n",
        "    'region_3depth_name': '저동',\n",
        "    'road_name': '경포로',\n",
        "    'sub_building_no': '',\n",
        "    'underground_yn': 'N',\n",
        "    'x': '128.896538649542',\n",
        "    'y': '37.7955687639648',\n",
        "    'zone_no': '25461'},\n",
        "   'x': '128.896538649542',\n",
        "   'y': '37.7955687639648'}],\n",
        " 'meta': {'is_end': True, 'pageable_count': 1, 'total_count': 1}}"
      ],
      "execution_count": 24,
      "outputs": []
    },
    {
      "cell_type": "code",
      "metadata": {
        "colab": {
          "base_uri": "https://localhost:8080/",
          "height": 35
        },
        "id": "IqZn-OAhg5U6",
        "outputId": "27b6e360-7b2a-42b4-fa68-bc4f2d3bf63c"
      },
      "source": [
        "result['documents'][0]['x']"
      ],
      "execution_count": 25,
      "outputs": [
        {
          "output_type": "execute_result",
          "data": {
            "application/vnd.google.colaboratory.intrinsic+json": {
              "type": "string"
            },
            "text/plain": [
              "'128.896538649542'"
            ]
          },
          "metadata": {
            "tags": []
          },
          "execution_count": 25
        }
      ]
    },
    {
      "cell_type": "code",
      "metadata": {
        "colab": {
          "base_uri": "https://localhost:8080/"
        },
        "id": "FwV8wMhdg685",
        "outputId": "6e3c9ceb-f0e6-489a-f5a8-1db78617e111"
      },
      "source": [
        "lat = float(result['documents'][0]['y'])\n",
        "lng = float(result['documents'][0]['x'])\n",
        "print(f'위도: {lat:.6f}, 경도: {lng:.6f}')"
      ],
      "execution_count": 26,
      "outputs": [
        {
          "output_type": "stream",
          "text": [
            "위도: 37.795569, 경도: 128.896539\n"
          ],
          "name": "stdout"
        }
      ]
    },
    {
      "cell_type": "code",
      "metadata": {
        "id": "qbjgxFBvg81y"
      },
      "source": [
        ""
      ],
      "execution_count": null,
      "outputs": []
    }
  ]
}