{
  "nbformat": 4,
  "nbformat_minor": 0,
  "metadata": {
    "colab": {
      "name": "심사문제 22-26.ipynb",
      "provenance": [],
      "collapsed_sections": []
    },
    "kernelspec": {
      "name": "python3",
      "display_name": "Python 3"
    },
    "language_info": {
      "name": "python"
    }
  },
  "cells": [
    {
      "cell_type": "markdown",
      "metadata": {
        "id": "ZC34Spp1m6Up"
      },
      "source": [
        "# 심사문제"
      ]
    },
    {
      "cell_type": "markdown",
      "metadata": {
        "id": "5xj0d-htm7C2"
      },
      "source": [
        "## u_22\n",
        "표준 입력으로 정수 두 개가 입력됩니다(첫 번째 입력 값의 범위는 1~20, 두 번째 입력 값의 범위는 10~30이며 첫 번째 입력 값은 두 번째 입력 값보다 항상 작습니다).\n",
        "첫 번째 정수부터 두 번째 정수까지를 지수로 하는 2의 거듭제곱 리스트를 출력하는 프로그램을 만드세요(input에서 안내 문자열은 출력하지 않아야 합니다).\n",
        "단, 리스트의 두 번째 요소와 뒤에서 두 번째 요소는 삭제한 뒤 출력하세요. 출력 결과는 리스트 형태라야 합니다."
      ]
    },
    {
      "cell_type": "code",
      "metadata": {
        "colab": {
          "base_uri": "https://localhost:8080/"
        },
        "id": "0KPsaA-Om1Z-",
        "outputId": "459919ec-2c00-4d8d-baa2-1ed4fb44d46c"
      },
      "source": [
        "a, b = map(int, input().split())\n",
        "square = [2 ** i for i in range(a, b+1)]\n",
        "del square[-2]\n",
        "del square[1]\n",
        "square"
      ],
      "execution_count": 3,
      "outputs": [
        {
          "output_type": "stream",
          "text": [
            "2 11\n"
          ],
          "name": "stdout"
        },
        {
          "output_type": "execute_result",
          "data": {
            "text/plain": [
              "[4, 16, 32, 64, 128, 256, 512, 2048]"
            ]
          },
          "metadata": {
            "tags": []
          },
          "execution_count": 3
        }
      ]
    },
    {
      "cell_type": "markdown",
      "metadata": {
        "id": "tFLWdKLZnVfY"
      },
      "source": [
        "## u_23 지뢰찾기\n"
      ]
    },
    {
      "cell_type": "code",
      "metadata": {
        "id": "uNX-RB1TnDJ5"
      },
      "source": [
        "import random\n",
        "mines = []\n",
        "N = 9\n",
        "for _ in range(N):\n",
        "    row = ''\n",
        "    for _ in range(N):\n",
        "        if random.random() > 0.6:\n",
        "            row += '*'\n",
        "        else:\n",
        "            row += '.'\n",
        "    mines.append(row)"
      ],
      "execution_count": 4,
      "outputs": []
    },
    {
      "cell_type": "code",
      "metadata": {
        "colab": {
          "base_uri": "https://localhost:8080/"
        },
        "id": "scN5uiranYYB",
        "outputId": "e76dc4ec-6ff5-4bf0-d3a5-db6d1af5f4f0"
      },
      "source": [
        "mines = [['*' if random.random()>0.6 else '.' for _ in range(N)] for _ in range(N)]\n",
        "for i in range(len(mines)):\n",
        "    for k in range(len(mines)):\n",
        "        print(mines[i][k], end=' ')\n",
        "    print()"
      ],
      "execution_count": 5,
      "outputs": [
        {
          "output_type": "stream",
          "text": [
            ". * * . . . . * * \n",
            "* * * . * . . . . \n",
            "* . . . . . . . . \n",
            ". * * . * * * . . \n",
            ". * . . . . . . . \n",
            ". . . * * * * . . \n",
            "* . * . * . * . . \n",
            ". * . . . . . . * \n",
            ". * * . * . . . . \n"
          ],
          "name": "stdout"
        }
      ]
    },
    {
      "cell_type": "code",
      "metadata": {
        "colab": {
          "base_uri": "https://localhost:8080/"
        },
        "id": "A0QYe-FfnZpG",
        "outputId": "264019d2-20e2-4fd4-f795-e701819e767a"
      },
      "source": [
        "def print_mines(mat):\n",
        "    for i in range(len(mat)):\n",
        "        for k in range(len(mat)):\n",
        "            print(mat[i][k], end=' ')\n",
        "        print()\n",
        "\n",
        "print_mines(mines)"
      ],
      "execution_count": 6,
      "outputs": [
        {
          "output_type": "stream",
          "text": [
            ". * * . . . . * * \n",
            "* * * . * . . . . \n",
            "* . . . . . . . . \n",
            ". * * . * * * . . \n",
            ". * . . . . . . . \n",
            ". . . * * * * . . \n",
            "* . * . * . * . . \n",
            ". * . . . . . . * \n",
            ". * * . * . . . . \n"
          ],
          "name": "stdout"
        }
      ]
    },
    {
      "cell_type": "code",
      "metadata": {
        "colab": {
          "base_uri": "https://localhost:8080/"
        },
        "id": "olx6ZSY7na--",
        "outputId": "26575851-66dc-425f-b840-9a7ca52fb821"
      },
      "source": [
        "pad_mines = []\n",
        "pad_mines.append('.' * (N+2))\n",
        "for i in range(N):\n",
        "    row = '.'\n",
        "    for k in range(N):\n",
        "        row += mines[i][k]\n",
        "    row += '.'\n",
        "    pad_mines.append(row)\n",
        "pad_mines.append('.' * (N+2))\n",
        "\n",
        "print_mines(pad_mines)"
      ],
      "execution_count": 7,
      "outputs": [
        {
          "output_type": "stream",
          "text": [
            ". . . . . . . . . . . \n",
            ". . * * . . . . * * . \n",
            ". * * * . * . . . . . \n",
            ". * . . . . . . . . . \n",
            ". . * * . * * * . . . \n",
            ". . * . . . . . . . . \n",
            ". . . . * * * * . . . \n",
            ". * . * . * . * . . . \n",
            ". . * . . . . . . * . \n",
            ". . * * . * . . . . . \n",
            ". . . . . . . . . . . \n"
          ],
          "name": "stdout"
        }
      ]
    },
    {
      "cell_type": "code",
      "metadata": {
        "colab": {
          "base_uri": "https://localhost:8080/"
        },
        "id": "Nuw6Z9Hwnc0t",
        "outputId": "5a041b4f-4bc8-49c7-afd6-e362cf5aaef3"
      },
      "source": [
        "final_mines = []\n",
        "for i in range(1, N+1):\n",
        "    row = ''\n",
        "    for k in range(1, N+1):\n",
        "        if pad_mines[i][k] == '*':\n",
        "            row += '*'\n",
        "        else:\n",
        "            count = (pad_mines[i-1][k-1]=='*') + (pad_mines[i-1][k]=='*') + \\\n",
        "                    (pad_mines[i-1][k+1]=='*') + (pad_mines[i][k-1]=='*') + \\\n",
        "                    (pad_mines[i][k+1]=='*') + (pad_mines[i+1][k-1]=='*') + \\\n",
        "                    (pad_mines[i+1][k]=='*') + (pad_mines[i+1][k+1]=='*')\n",
        "            row += str(count)\n",
        "    final_mines.append(row)\n",
        "\n",
        "print_mines(final_mines)"
      ],
      "execution_count": 8,
      "outputs": [
        {
          "output_type": "stream",
          "text": [
            "3 * * 3 1 1 1 * * \n",
            "* * * 3 * 1 1 2 2 \n",
            "* 6 4 4 3 4 2 1 0 \n",
            "3 * * 2 * * * 1 0 \n",
            "2 * 4 4 5 6 4 2 0 \n",
            "2 3 3 * * * * 2 0 \n",
            "* 3 * 4 * 5 * 3 1 \n",
            "3 * 4 4 2 3 1 2 * \n",
            "2 * * 2 * 1 0 1 1 \n"
          ],
          "name": "stdout"
        }
      ]
    },
    {
      "cell_type": "markdown",
      "metadata": {
        "id": "Tb584KQYngSU"
      },
      "source": [
        "## u24-5 특정 단어 개수 세기\n",
        "표준 입력으로 문자열이 입력됩니다. 입력된 문자열에서 'the'의 개수를 출력하는 프로그램을 만드세요.\n",
        "단, 모든 문자가 소문자인 'the'만 찾으면 되며 'them', 'there', 'their' 등은 포함하지 않아야 합니다."
      ]
    },
    {
      "cell_type": "code",
      "metadata": {
        "colab": {
          "base_uri": "https://localhost:8080/"
        },
        "id": "LCgH5sCpneUM",
        "outputId": "bb4fc4d0-443f-46ea-b145-7a36a4308080"
      },
      "source": [
        "text = \"\"\"\n",
        "the grown-ups' response, this time, was to advise me to lay aside my drawings of boa constrictors, \n",
        "whether from the inside or the outside, and devote myself instead to geography, history, arithmetic, \n",
        "and grammar. That is why, at the, age of six, I gave up what might have been a magnificent career \n",
        "as a painter. I had been disheartened by the failure of my Drawing Number One and my Drawing Number Two. \n",
        "Grown-ups never understand anything by themselves, and it is tiresome for children to be always and \n",
        "forever explaining things to the.\n",
        "\"\"\"\n",
        "text.count('the')"
      ],
      "execution_count": 9,
      "outputs": [
        {
          "output_type": "execute_result",
          "data": {
            "text/plain": [
              "8"
            ]
          },
          "metadata": {
            "tags": []
          },
          "execution_count": 9
        }
      ]
    },
    {
      "cell_type": "code",
      "metadata": {
        "colab": {
          "base_uri": "https://localhost:8080/",
          "height": 103
        },
        "id": "EQkPp7jBni7I",
        "outputId": "844ab307-eea3-4ae5-ae13-09eace11ec21"
      },
      "source": [
        "import re\n",
        "text = re.sub('[\\'-.,\\n]', '', text)\n",
        "text"
      ],
      "execution_count": 10,
      "outputs": [
        {
          "output_type": "execute_result",
          "data": {
            "application/vnd.google.colaboratory.intrinsic+json": {
              "type": "string"
            },
            "text/plain": [
              "'the grownups response this time was to advise me to lay aside my drawings of boa constrictors whether from the inside or the outside and devote myself instead to geography history arithmetic and grammar That is why at the age of six I gave up what might have been a magnificent career as a painter I had been disheartened by the failure of my Drawing Number One and my Drawing Number Two Grownups never understand anything by themselves and it is tiresome for children to be always and forever explaining things to the'"
            ]
          },
          "metadata": {
            "tags": []
          },
          "execution_count": 10
        }
      ]
    },
    {
      "cell_type": "code",
      "metadata": {
        "colab": {
          "base_uri": "https://localhost:8080/",
          "height": 103
        },
        "id": "D-Pp-1oPnkoA",
        "outputId": "3a1260f9-b053-4764-bc7b-56dbfc3777f6"
      },
      "source": [
        "text = re.sub('[^A-Za-z ]', '', text)\n",
        "text"
      ],
      "execution_count": 11,
      "outputs": [
        {
          "output_type": "execute_result",
          "data": {
            "application/vnd.google.colaboratory.intrinsic+json": {
              "type": "string"
            },
            "text/plain": [
              "'the grownups response this time was to advise me to lay aside my drawings of boa constrictors whether from the inside or the outside and devote myself instead to geography history arithmetic and grammar That is why at the age of six I gave up what might have been a magnificent career as a painter I had been disheartened by the failure of my Drawing Number One and my Drawing Number Two Grownups never understand anything by themselves and it is tiresome for children to be always and forever explaining things to the'"
            ]
          },
          "metadata": {
            "tags": []
          },
          "execution_count": 11
        }
      ]
    },
    {
      "cell_type": "code",
      "metadata": {
        "colab": {
          "base_uri": "https://localhost:8080/"
        },
        "id": "DJwMt-BfnmGK",
        "outputId": "6f474813-75db-4c5b-d8f0-c2d67a27ea0d"
      },
      "source": [
        "text_list = text.lower().strip().split()\n",
        "count = 0\n",
        "for word in text_list:\n",
        "    if word == 'the':\n",
        "        count += 1\n",
        "count"
      ],
      "execution_count": 12,
      "outputs": [
        {
          "output_type": "execute_result",
          "data": {
            "text/plain": [
              "6"
            ]
          },
          "metadata": {
            "tags": []
          },
          "execution_count": 12
        }
      ]
    },
    {
      "cell_type": "markdown",
      "metadata": {
        "id": "RD-pigINnqKC"
      },
      "source": [
        "## u24-6\n",
        "표준 입력으로 물품 가격 여러 개가 문자열 한 줄로 입력되고, 각 가격은 ;(세미콜론)으로 구분되어 있습니다.\n",
        "입력된 가격을 높은 가격순으로 출력하는 프로그램을 만드세요(input에서 안내 문자열은 출력하지 않아야 합니다).\n",
        "이때 가격은 길이를 9로 만든 뒤 오른쪽으로 정렬하고 천단위로 ,(콤마)를 넣으세요."
      ]
    },
    {
      "cell_type": "code",
      "metadata": {
        "colab": {
          "base_uri": "https://localhost:8080/"
        },
        "id": "j4O3sL2jnn3G",
        "outputId": "3e6765b0-d84b-43e0-8e9f-8e662f29fdb0"
      },
      "source": [
        "input_str = '51900;83000;158000;367500;250000;59200;128500;1304000'\n",
        "price_list = list(map(int, input_str.split(';')))\n",
        "price_list"
      ],
      "execution_count": 13,
      "outputs": [
        {
          "output_type": "execute_result",
          "data": {
            "text/plain": [
              "[51900, 83000, 158000, 367500, 250000, 59200, 128500, 1304000]"
            ]
          },
          "metadata": {
            "tags": []
          },
          "execution_count": 13
        }
      ]
    },
    {
      "cell_type": "code",
      "metadata": {
        "colab": {
          "base_uri": "https://localhost:8080/"
        },
        "id": "_7QfWNcDnuES",
        "outputId": "2cb87ee6-4b44-4200-cf77-b4318991ba59"
      },
      "source": [
        "price_list.sort(reverse=True)\n",
        "price_list"
      ],
      "execution_count": 14,
      "outputs": [
        {
          "output_type": "execute_result",
          "data": {
            "text/plain": [
              "[1304000, 367500, 250000, 158000, 128500, 83000, 59200, 51900]"
            ]
          },
          "metadata": {
            "tags": []
          },
          "execution_count": 14
        }
      ]
    },
    {
      "cell_type": "code",
      "metadata": {
        "colab": {
          "base_uri": "https://localhost:8080/"
        },
        "id": "v3EyX9ZmnvX2",
        "outputId": "99f64dac-3d15-4157-bced-26a899bf7d92"
      },
      "source": [
        "for price in price_list:\n",
        "    print(f'{price:9,d}')"
      ],
      "execution_count": 15,
      "outputs": [
        {
          "output_type": "stream",
          "text": [
            "1,304,000\n",
            "  367,500\n",
            "  250,000\n",
            "  158,000\n",
            "  128,500\n",
            "   83,000\n",
            "   59,200\n",
            "   51,900\n"
          ],
          "name": "stdout"
        }
      ]
    },
    {
      "cell_type": "markdown",
      "metadata": {
        "id": "hv1ihvYhnzfY"
      },
      "source": [
        "## u25\n",
        "표준 입력으로 문자열 여러 개와 숫자 여러 개가 두 줄로 입력되고, 첫 번째 줄은 키, 두 번째 줄은 값으로 하여 딕셔너리를 생성합니다.\n",
        "다음 코드를 완성하여 딕셔너리에서 키가 'delta'인 키-값 쌍과 값이 30인 키-값 쌍을 삭제하도록 만드세요."
      ]
    },
    {
      "cell_type": "code",
      "metadata": {
        "colab": {
          "base_uri": "https://localhost:8080/"
        },
        "id": "f1P8swM7nxpF",
        "outputId": "0e9f216c-8de8-442b-ce00-20215bcfd33f"
      },
      "source": [
        "# alpha bravo charlie delta\n",
        "# 10 20 30 40\n",
        "keys = input().split()\n",
        "values = map(int, input().split())\n",
        "x = dict(zip(keys, values))\n",
        "x"
      ],
      "execution_count": 18,
      "outputs": [
        {
          "output_type": "stream",
          "text": [
            "alpha bravo charlie delta\n",
            "10 20 30 40\n"
          ],
          "name": "stdout"
        },
        {
          "output_type": "execute_result",
          "data": {
            "text/plain": [
              "{'alpha': 10, 'bravo': 20, 'charlie': 30, 'delta': 40}"
            ]
          },
          "metadata": {
            "tags": []
          },
          "execution_count": 18
        }
      ]
    },
    {
      "cell_type": "code",
      "metadata": {
        "colab": {
          "base_uri": "https://localhost:8080/"
        },
        "id": "kFPNBqp8n1qY",
        "outputId": "c95f6b25-1674-4a49-d3b4-de215250a228"
      },
      "source": [
        "del x['delta']\n",
        "x"
      ],
      "execution_count": 19,
      "outputs": [
        {
          "output_type": "execute_result",
          "data": {
            "text/plain": [
              "{'alpha': 10, 'bravo': 20, 'charlie': 30}"
            ]
          },
          "metadata": {
            "tags": []
          },
          "execution_count": 19
        }
      ]
    },
    {
      "cell_type": "code",
      "metadata": {
        "colab": {
          "base_uri": "https://localhost:8080/"
        },
        "id": "K2aYsUtVoQ5y",
        "outputId": "9e4b7e18-239d-4ff6-8244-d696be020d4c"
      },
      "source": [
        "for key, value in x.items():\n",
        "    if value==30:\n",
        "        break\n",
        "\n",
        "x.pop(key)      # del x[key]\n",
        "x"
      ],
      "execution_count": 20,
      "outputs": [
        {
          "output_type": "execute_result",
          "data": {
            "text/plain": [
              "{'alpha': 10, 'bravo': 20}"
            ]
          },
          "metadata": {
            "tags": []
          },
          "execution_count": 20
        }
      ]
    },
    {
      "cell_type": "markdown",
      "metadata": {
        "id": "Zq5ye6QioUFb"
      },
      "source": [
        "## u26\n",
        "표준 입력으로 양의 정수 두 개가 입력됩니다. 다음 소스 코드를 완성하여 두 숫자의 공약수를 세트 형태로 구하도록 만드세요.\n",
        "단, 최종 결과는 공약수의 합으로 판단합니다."
      ]
    },
    {
      "cell_type": "code",
      "metadata": {
        "colab": {
          "base_uri": "https://localhost:8080/"
        },
        "id": "O-knImJ2oSan",
        "outputId": "1ae79da7-cd5b-4bb1-8637-5842235a4bc7"
      },
      "source": [
        "div_list = []\n",
        "x = 10\n",
        "for i in range(1,x+1):\n",
        "    if x % i == 0:\n",
        "        div_list.append(i)\n",
        "set(div_list)"
      ],
      "execution_count": 21,
      "outputs": [
        {
          "output_type": "execute_result",
          "data": {
            "text/plain": [
              "{1, 2, 5, 10}"
            ]
          },
          "metadata": {
            "tags": []
          },
          "execution_count": 21
        }
      ]
    },
    {
      "cell_type": "code",
      "metadata": {
        "colab": {
          "base_uri": "https://localhost:8080/"
        },
        "id": "O_D1is6joWhO",
        "outputId": "9825a5b1-1dc3-43d1-ce87-0d5ff3b843f6"
      },
      "source": [
        "x, y = map(int, input().split())\n",
        "a = set(i for i in range(1,x+1) if x%i == 0)\n",
        "b = set(i for i in range(1,y+1) if y%i == 0)\n",
        "print(a, b)\n",
        "divisor = a & b\n",
        " \n",
        "result = 0\n",
        "if type(divisor) == set:\n",
        "    result = sum(divisor)\n",
        " \n",
        "print(result)"
      ],
      "execution_count": 22,
      "outputs": [
        {
          "output_type": "stream",
          "text": [
            "30 15\n",
            "{1, 2, 3, 5, 6, 10, 15, 30} {1, 3, 5, 15}\n",
            "24\n"
          ],
          "name": "stdout"
        }
      ]
    },
    {
      "cell_type": "code",
      "metadata": {
        "id": "qmN12_vBoYku"
      },
      "source": [
        ""
      ],
      "execution_count": null,
      "outputs": []
    }
  ]
}