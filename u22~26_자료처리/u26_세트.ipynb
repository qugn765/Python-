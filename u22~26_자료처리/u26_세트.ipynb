{
  "nbformat": 4,
  "nbformat_minor": 0,
  "metadata": {
    "colab": {
      "name": "u26_세트.ipynb",
      "provenance": [],
      "collapsed_sections": []
    },
    "kernelspec": {
      "name": "python3",
      "display_name": "Python 3"
    },
    "language_info": {
      "name": "python"
    }
  },
  "cells": [
    {
      "cell_type": "markdown",
      "metadata": {
        "id": "hlffAkAFhH93"
      },
      "source": [
        "# Unit 26. 세트(집합)"
      ]
    },
    {
      "cell_type": "markdown",
      "metadata": {
        "id": "ux0eukAqhM3S"
      },
      "source": [
        "## 26.1 생성"
      ]
    },
    {
      "cell_type": "code",
      "metadata": {
        "colab": {
          "base_uri": "https://localhost:8080/"
        },
        "id": "ZYCWHqDthCKW",
        "outputId": "014a3715-315f-4fbb-9f68-1807060f3461"
      },
      "source": [
        "fruits = {'apple','banana','cherry','orange','grape'}\n",
        "fruits"
      ],
      "execution_count": 1,
      "outputs": [
        {
          "output_type": "execute_result",
          "data": {
            "text/plain": [
              "{'apple', 'banana', 'cherry', 'grape', 'orange'}"
            ]
          },
          "metadata": {
            "tags": []
          },
          "execution_count": 1
        }
      ]
    },
    {
      "cell_type": "code",
      "metadata": {
        "colab": {
          "base_uri": "https://localhost:8080/"
        },
        "id": "Lxnb-KLIhQKR",
        "outputId": "51e7dd1a-1073-4701-c1bd-3633b3d0c9a0"
      },
      "source": [
        "type(fruits)"
      ],
      "execution_count": 2,
      "outputs": [
        {
          "output_type": "execute_result",
          "data": {
            "text/plain": [
              "set"
            ]
          },
          "metadata": {
            "tags": []
          },
          "execution_count": 2
        }
      ]
    },
    {
      "cell_type": "code",
      "metadata": {
        "colab": {
          "base_uri": "https://localhost:8080/"
        },
        "id": "MMojLCZ3hReO",
        "outputId": "17cedbe6-f1ba-4159-9fcc-97a0d2f45c90"
      },
      "source": [
        "fruits = {'apple','banana','cherry','orange','grape','apple'}\n",
        "fruits"
      ],
      "execution_count": 3,
      "outputs": [
        {
          "output_type": "execute_result",
          "data": {
            "text/plain": [
              "{'apple', 'banana', 'cherry', 'grape', 'orange'}"
            ]
          },
          "metadata": {
            "tags": []
          },
          "execution_count": 3
        }
      ]
    },
    {
      "cell_type": "code",
      "metadata": {
        "colab": {
          "base_uri": "https://localhost:8080/"
        },
        "id": "NptPYaWSllLi",
        "outputId": "8e1e3200-a77c-4449-9d33-7880dc23f1e8"
      },
      "source": [
        "'peach' not in fruits"
      ],
      "execution_count": 4,
      "outputs": [
        {
          "output_type": "execute_result",
          "data": {
            "text/plain": [
              "True"
            ]
          },
          "metadata": {
            "tags": []
          },
          "execution_count": 4
        }
      ]
    },
    {
      "cell_type": "code",
      "metadata": {
        "colab": {
          "base_uri": "https://localhost:8080/"
        },
        "id": "yu5cPxoqlnTF",
        "outputId": "e38a518a-990c-4b61-c2f3-d8a82eb947bc"
      },
      "source": [
        "'orange' in fruits"
      ],
      "execution_count": 5,
      "outputs": [
        {
          "output_type": "execute_result",
          "data": {
            "text/plain": [
              "True"
            ]
          },
          "metadata": {
            "tags": []
          },
          "execution_count": 5
        }
      ]
    },
    {
      "cell_type": "code",
      "metadata": {
        "colab": {
          "base_uri": "https://localhost:8080/"
        },
        "id": "u6Ie8tC4lpA8",
        "outputId": "78d131ec-7e46-4c31-d325-d303bf98cf93"
      },
      "source": [
        "a = set('apple')\n",
        "a"
      ],
      "execution_count": 6,
      "outputs": [
        {
          "output_type": "execute_result",
          "data": {
            "text/plain": [
              "{'a', 'e', 'l', 'p'}"
            ]
          },
          "metadata": {
            "tags": []
          },
          "execution_count": 6
        }
      ]
    },
    {
      "cell_type": "code",
      "metadata": {
        "colab": {
          "base_uri": "https://localhost:8080/"
        },
        "id": "pYx6R440lqUo",
        "outputId": "7effeabc-36fa-437f-dcf4-1ddc8b917a9f"
      },
      "source": [
        "set('안녕하세요?')"
      ],
      "execution_count": 7,
      "outputs": [
        {
          "output_type": "execute_result",
          "data": {
            "text/plain": [
              "{'?', '녕', '세', '안', '요', '하'}"
            ]
          },
          "metadata": {
            "tags": []
          },
          "execution_count": 7
        }
      ]
    },
    {
      "cell_type": "markdown",
      "metadata": {
        "id": "k6Fo4MGtluAs"
      },
      "source": [
        "## 26.2 연산"
      ]
    },
    {
      "cell_type": "code",
      "metadata": {
        "colab": {
          "base_uri": "https://localhost:8080/"
        },
        "id": "7U6ofuHvlrwE",
        "outputId": "fdd8a0a7-c017-4994-e1f9-32e197f03ef3"
      },
      "source": [
        "a = set(range(4))\n",
        "b = set(range(2,6))\n",
        "a, b"
      ],
      "execution_count": 8,
      "outputs": [
        {
          "output_type": "execute_result",
          "data": {
            "text/plain": [
              "({0, 1, 2, 3}, {2, 3, 4, 5})"
            ]
          },
          "metadata": {
            "tags": []
          },
          "execution_count": 8
        }
      ]
    },
    {
      "cell_type": "code",
      "metadata": {
        "colab": {
          "base_uri": "https://localhost:8080/"
        },
        "id": "69Ju0enCly1p",
        "outputId": "9162887f-3bad-493c-a269-b983abe550c4"
      },
      "source": [
        "# 합집합(union)\n",
        "a | b"
      ],
      "execution_count": 9,
      "outputs": [
        {
          "output_type": "execute_result",
          "data": {
            "text/plain": [
              "{0, 1, 2, 3, 4, 5}"
            ]
          },
          "metadata": {
            "tags": []
          },
          "execution_count": 9
        }
      ]
    },
    {
      "cell_type": "code",
      "metadata": {
        "colab": {
          "base_uri": "https://localhost:8080/"
        },
        "id": "uFGoxJRXl1dk",
        "outputId": "5b03e1df-57c6-4b30-8338-00c4d36a06c4"
      },
      "source": [
        "set.union(a,b)"
      ],
      "execution_count": 10,
      "outputs": [
        {
          "output_type": "execute_result",
          "data": {
            "text/plain": [
              "{0, 1, 2, 3, 4, 5}"
            ]
          },
          "metadata": {
            "tags": []
          },
          "execution_count": 10
        }
      ]
    },
    {
      "cell_type": "code",
      "metadata": {
        "colab": {
          "base_uri": "https://localhost:8080/"
        },
        "id": "KDPRKbZIl26_",
        "outputId": "31b1527f-3552-4e47-d63f-0fcc6c228e62"
      },
      "source": [
        "# 교집합(intersection)\n",
        "a & b"
      ],
      "execution_count": 11,
      "outputs": [
        {
          "output_type": "execute_result",
          "data": {
            "text/plain": [
              "{2, 3}"
            ]
          },
          "metadata": {
            "tags": []
          },
          "execution_count": 11
        }
      ]
    },
    {
      "cell_type": "code",
      "metadata": {
        "colab": {
          "base_uri": "https://localhost:8080/"
        },
        "id": "o7vL8H3Gl4qP",
        "outputId": "e81fc940-315a-4be0-e496-b87e6608a956"
      },
      "source": [
        "set.intersection(a,b)"
      ],
      "execution_count": 12,
      "outputs": [
        {
          "output_type": "execute_result",
          "data": {
            "text/plain": [
              "{2, 3}"
            ]
          },
          "metadata": {
            "tags": []
          },
          "execution_count": 12
        }
      ]
    },
    {
      "cell_type": "code",
      "metadata": {
        "colab": {
          "base_uri": "https://localhost:8080/"
        },
        "id": "9f4fdospl6gD",
        "outputId": "7a0aa938-2957-45e9-e658-edf380d37e4a"
      },
      "source": [
        "# 차집합(difference)\n",
        "a - b"
      ],
      "execution_count": 13,
      "outputs": [
        {
          "output_type": "execute_result",
          "data": {
            "text/plain": [
              "{0, 1}"
            ]
          },
          "metadata": {
            "tags": []
          },
          "execution_count": 13
        }
      ]
    },
    {
      "cell_type": "code",
      "metadata": {
        "colab": {
          "base_uri": "https://localhost:8080/"
        },
        "id": "9AbHRbsKl75p",
        "outputId": "d0c86cc8-37ee-4dd3-e9df-de84aa10c55e"
      },
      "source": [
        "set.difference(a,b)"
      ],
      "execution_count": 14,
      "outputs": [
        {
          "output_type": "execute_result",
          "data": {
            "text/plain": [
              "{0, 1}"
            ]
          },
          "metadata": {
            "tags": []
          },
          "execution_count": 14
        }
      ]
    },
    {
      "cell_type": "code",
      "metadata": {
        "colab": {
          "base_uri": "https://localhost:8080/"
        },
        "id": "hSaWyRL4l9OI",
        "outputId": "976b4da7-f195-49d4-a291-8de57e21979e"
      },
      "source": [
        "# 대칭차집합(symmetric difference)\n",
        "a ^ b"
      ],
      "execution_count": 15,
      "outputs": [
        {
          "output_type": "execute_result",
          "data": {
            "text/plain": [
              "{0, 1, 4, 5}"
            ]
          },
          "metadata": {
            "tags": []
          },
          "execution_count": 15
        }
      ]
    },
    {
      "cell_type": "code",
      "metadata": {
        "colab": {
          "base_uri": "https://localhost:8080/"
        },
        "id": "P5dQ0Adul-rm",
        "outputId": "cd7593e5-2143-4b6a-e7ad-10b681ca0913"
      },
      "source": [
        "set.symmetric_difference(a,b)"
      ],
      "execution_count": 16,
      "outputs": [
        {
          "output_type": "execute_result",
          "data": {
            "text/plain": [
              "{0, 1, 4, 5}"
            ]
          },
          "metadata": {
            "tags": []
          },
          "execution_count": 16
        }
      ]
    },
    {
      "cell_type": "markdown",
      "metadata": {
        "id": "UMJXXzUwmBlg"
      },
      "source": [
        "### 부분집합, 상위집합"
      ]
    },
    {
      "cell_type": "code",
      "metadata": {
        "colab": {
          "base_uri": "https://localhost:8080/"
        },
        "id": "tp3pzwZAmAB1",
        "outputId": "1648414a-f08d-4b96-d3be-004faa126694"
      },
      "source": [
        "a <= {0,1,2,3}"
      ],
      "execution_count": 17,
      "outputs": [
        {
          "output_type": "execute_result",
          "data": {
            "text/plain": [
              "True"
            ]
          },
          "metadata": {
            "tags": []
          },
          "execution_count": 17
        }
      ]
    },
    {
      "cell_type": "code",
      "metadata": {
        "colab": {
          "base_uri": "https://localhost:8080/"
        },
        "id": "uunEBEIrmDgo",
        "outputId": "b12e3cd1-0269-4917-b0cb-dcece65ab57e"
      },
      "source": [
        "a.issubset({0,1,2,3,4})"
      ],
      "execution_count": 18,
      "outputs": [
        {
          "output_type": "execute_result",
          "data": {
            "text/plain": [
              "True"
            ]
          },
          "metadata": {
            "tags": []
          },
          "execution_count": 18
        }
      ]
    },
    {
      "cell_type": "code",
      "metadata": {
        "colab": {
          "base_uri": "https://localhost:8080/"
        },
        "id": "GQwhwK30mE1-",
        "outputId": "ea9135a0-a5ba-4656-a496-89c1a582b715"
      },
      "source": [
        "a >= {1,2,3}"
      ],
      "execution_count": 19,
      "outputs": [
        {
          "output_type": "execute_result",
          "data": {
            "text/plain": [
              "True"
            ]
          },
          "metadata": {
            "tags": []
          },
          "execution_count": 19
        }
      ]
    },
    {
      "cell_type": "code",
      "metadata": {
        "colab": {
          "base_uri": "https://localhost:8080/"
        },
        "id": "xfoLXuAsmF8n",
        "outputId": "dcb268c1-0c33-475f-ba47-3e32c1964aff"
      },
      "source": [
        "a.issuperset({1,2,3})"
      ],
      "execution_count": 20,
      "outputs": [
        {
          "output_type": "execute_result",
          "data": {
            "text/plain": [
              "True"
            ]
          },
          "metadata": {
            "tags": []
          },
          "execution_count": 20
        }
      ]
    },
    {
      "cell_type": "markdown",
      "metadata": {
        "id": "Y1Mcpl5_mJ0F"
      },
      "source": [
        "### 값 비교"
      ]
    },
    {
      "cell_type": "code",
      "metadata": {
        "colab": {
          "base_uri": "https://localhost:8080/"
        },
        "id": "aPSLTLyEmH2q",
        "outputId": "0a7c4eec-f893-4d60-c480-caafa73e4af5"
      },
      "source": [
        "a == {3,1,0,2}"
      ],
      "execution_count": 21,
      "outputs": [
        {
          "output_type": "execute_result",
          "data": {
            "text/plain": [
              "True"
            ]
          },
          "metadata": {
            "tags": []
          },
          "execution_count": 21
        }
      ]
    },
    {
      "cell_type": "code",
      "metadata": {
        "colab": {
          "base_uri": "https://localhost:8080/"
        },
        "id": "XxLVHtRrmLqC",
        "outputId": "8564d50a-db59-467c-bc08-5bcaf0fd2851"
      },
      "source": [
        "a.isdisjoint(b)"
      ],
      "execution_count": 22,
      "outputs": [
        {
          "output_type": "execute_result",
          "data": {
            "text/plain": [
              "False"
            ]
          },
          "metadata": {
            "tags": []
          },
          "execution_count": 22
        }
      ]
    },
    {
      "cell_type": "code",
      "metadata": {
        "colab": {
          "base_uri": "https://localhost:8080/"
        },
        "id": "Q2fNH5BSmM6G",
        "outputId": "3baa039a-2b0a-414e-e2ef-ae8249fb1920"
      },
      "source": [
        "a.isdisjoint({4,5,6,7})"
      ],
      "execution_count": 23,
      "outputs": [
        {
          "output_type": "execute_result",
          "data": {
            "text/plain": [
              "True"
            ]
          },
          "metadata": {
            "tags": []
          },
          "execution_count": 23
        }
      ]
    },
    {
      "cell_type": "markdown",
      "metadata": {
        "id": "m5ONwbaSmP7-"
      },
      "source": [
        "## 26.3 세트 조작"
      ]
    },
    {
      "cell_type": "code",
      "metadata": {
        "colab": {
          "base_uri": "https://localhost:8080/"
        },
        "id": "vSOz3kahmOU3",
        "outputId": "8c6095f1-9cc0-40a6-ea1d-e8da7004509e"
      },
      "source": [
        "a.add(4)\n",
        "a"
      ],
      "execution_count": 24,
      "outputs": [
        {
          "output_type": "execute_result",
          "data": {
            "text/plain": [
              "{0, 1, 2, 3, 4}"
            ]
          },
          "metadata": {
            "tags": []
          },
          "execution_count": 24
        }
      ]
    },
    {
      "cell_type": "code",
      "metadata": {
        "colab": {
          "base_uri": "https://localhost:8080/"
        },
        "id": "x7RnAJ9LmRnh",
        "outputId": "bd1c6360-eebb-4257-f1ee-0eeb3f66ce6e"
      },
      "source": [
        "a.remove(4)\n",
        "a"
      ],
      "execution_count": 25,
      "outputs": [
        {
          "output_type": "execute_result",
          "data": {
            "text/plain": [
              "{0, 1, 2, 3}"
            ]
          },
          "metadata": {
            "tags": []
          },
          "execution_count": 25
        }
      ]
    },
    {
      "cell_type": "code",
      "metadata": {
        "colab": {
          "base_uri": "https://localhost:8080/"
        },
        "id": "1V5Nd-p_mS46",
        "outputId": "3c27924a-95ae-4e5b-90f7-dc6c7d448a5f"
      },
      "source": [
        "# 임의의 원소 삭제하기\n",
        "a.pop()"
      ],
      "execution_count": 26,
      "outputs": [
        {
          "output_type": "execute_result",
          "data": {
            "text/plain": [
              "0"
            ]
          },
          "metadata": {
            "tags": []
          },
          "execution_count": 26
        }
      ]
    },
    {
      "cell_type": "code",
      "metadata": {
        "colab": {
          "base_uri": "https://localhost:8080/"
        },
        "id": "T5WYDEUomUXq",
        "outputId": "a321c330-c411-488d-cabc-6c419d129177"
      },
      "source": [
        "a"
      ],
      "execution_count": 27,
      "outputs": [
        {
          "output_type": "execute_result",
          "data": {
            "text/plain": [
              "{1, 2, 3}"
            ]
          },
          "metadata": {
            "tags": []
          },
          "execution_count": 27
        }
      ]
    },
    {
      "cell_type": "code",
      "metadata": {
        "colab": {
          "base_uri": "https://localhost:8080/"
        },
        "id": "uN3g1jnBmV3i",
        "outputId": "1ef092a0-7a22-4ae2-d7d3-fad32800b967"
      },
      "source": [
        "len(a)"
      ],
      "execution_count": 28,
      "outputs": [
        {
          "output_type": "execute_result",
          "data": {
            "text/plain": [
              "3"
            ]
          },
          "metadata": {
            "tags": []
          },
          "execution_count": 28
        }
      ]
    },
    {
      "cell_type": "markdown",
      "metadata": {
        "id": "PnAppiuYmY8X"
      },
      "source": [
        "## 26.5 반복문"
      ]
    },
    {
      "cell_type": "code",
      "metadata": {
        "colab": {
          "base_uri": "https://localhost:8080/"
        },
        "id": "Q9vHwIYQmXM6",
        "outputId": "11cc352e-0487-4300-b1b6-f70227af7026"
      },
      "source": [
        "for element in a:\n",
        "    print(element)"
      ],
      "execution_count": 29,
      "outputs": [
        {
          "output_type": "stream",
          "text": [
            "1\n",
            "2\n",
            "3\n"
          ],
          "name": "stdout"
        }
      ]
    },
    {
      "cell_type": "code",
      "metadata": {
        "id": "mwHm92Qnma3x"
      },
      "source": [
        ""
      ],
      "execution_count": null,
      "outputs": []
    }
  ]
}