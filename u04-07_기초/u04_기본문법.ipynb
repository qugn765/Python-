{
  "nbformat": 4,
  "nbformat_minor": 0,
  "metadata": {
    "colab": {
      "name": "u04_기본문법.ipynb",
      "provenance": [],
      "toc_visible": true
    },
    "kernelspec": {
      "name": "python3",
      "display_name": "Python 3"
    },
    "language_info": {
      "name": "python"
    }
  },
  "cells": [
    {
      "cell_type": "markdown",
      "metadata": {
        "id": "2NBYAfwRbx11"
      },
      "source": [
        "# Unit 4. 기본문법 알아보기"
      ]
    },
    {
      "cell_type": "markdown",
      "metadata": {
        "id": "3oT0-IrUb6--"
      },
      "source": [
        "## 4.1 세미콜론"
      ]
    },
    {
      "cell_type": "code",
      "metadata": {
        "colab": {
          "base_uri": "https://localhost:8080/"
        },
        "id": "1nBbd3Kyb8un",
        "outputId": "98296409-c462-498f-882d-637f97a873f5"
      },
      "source": [
        "print('Hello world!')"
      ],
      "execution_count": 3,
      "outputs": [
        {
          "output_type": "stream",
          "text": [
            "Hello world!\n"
          ],
          "name": "stdout"
        }
      ]
    },
    {
      "cell_type": "code",
      "metadata": {
        "colab": {
          "base_uri": "https://localhost:8080/"
        },
        "id": "oXYxM6xbcB3l",
        "outputId": "4134ad7e-1982-474b-9a14-2007bc6ba0fc"
      },
      "source": [
        "print('Hello world!'); print('1234')"
      ],
      "execution_count": 4,
      "outputs": [
        {
          "output_type": "stream",
          "text": [
            "Hello world!\n",
            "1234\n"
          ],
          "name": "stdout"
        }
      ]
    },
    {
      "cell_type": "markdown",
      "metadata": {
        "id": "nLjK77TPcH72"
      },
      "source": [
        "## 4.2 주석"
      ]
    },
    {
      "cell_type": "markdown",
      "metadata": {
        "id": "2wK4yY47cPEP"
      },
      "source": [
        "###4.2.1 한줄주석"
      ]
    },
    {
      "cell_type": "code",
      "metadata": {
        "colab": {
          "base_uri": "https://localhost:8080/"
        },
        "id": "ghpmQV2LcQzU",
        "outputId": "bc628080-d20b-4d27-ec5b-cdba6ec5b1c4"
      },
      "source": [
        "# Hello, world! 출력\n",
        "print('Hello world!')"
      ],
      "execution_count": 5,
      "outputs": [
        {
          "output_type": "stream",
          "text": [
            "Hello world!\n"
          ],
          "name": "stdout"
        }
      ]
    },
    {
      "cell_type": "code",
      "metadata": {
        "colab": {
          "base_uri": "https://localhost:8080/"
        },
        "id": "D4YASCUJcV3d",
        "outputId": "f82fbc57-bd8d-4a72-a6b3-791710ed804f"
      },
      "source": [
        "print('Hello world!')  #comment"
      ],
      "execution_count": 6,
      "outputs": [
        {
          "output_type": "stream",
          "text": [
            "Hello world!\n"
          ],
          "name": "stdout"
        }
      ]
    },
    {
      "cell_type": "markdown",
      "metadata": {
        "id": "4ch3gP7BfWuU"
      },
      "source": [
        "###4.2.2 블록주석"
      ]
    },
    {
      "cell_type": "code",
      "metadata": {
        "id": "DlVSl3_6fZz7"
      },
      "source": [
        "# 더하기\n",
        "# a = 1 + 2\n",
        "# print('Hello world!')"
      ],
      "execution_count": 8,
      "outputs": []
    },
    {
      "cell_type": "code",
      "metadata": {
        "colab": {
          "base_uri": "https://localhost:8080/",
          "height": 35
        },
        "id": "zGvAxMxzfh-M",
        "outputId": "354320b6-c06c-4f67-eac5-b837eac7a775"
      },
      "source": [
        "# 더하기\n",
        "''' a = 1 + 2\n",
        "# print('Hello world!')'''"
      ],
      "execution_count": 9,
      "outputs": [
        {
          "output_type": "execute_result",
          "data": {
            "application/vnd.google.colaboratory.intrinsic+json": {
              "type": "string"
            },
            "text/plain": [
              "\" a = 1 + 2\\n# print('Hello world!')\""
            ]
          },
          "metadata": {
            "tags": []
          },
          "execution_count": 9
        }
      ]
    },
    {
      "cell_type": "code",
      "metadata": {
        "colab": {
          "base_uri": "https://localhost:8080/",
          "height": 35
        },
        "id": "krSr4C-liUdq",
        "outputId": "3e012ce1-4da7-4f82-f4c0-5f3afcbcbecc"
      },
      "source": [
        "\"\"\"\n",
        "이 안에 포함된 내용이 블록 주석\n",
        "\"\"\""
      ],
      "execution_count": 10,
      "outputs": [
        {
          "output_type": "execute_result",
          "data": {
            "application/vnd.google.colaboratory.intrinsic+json": {
              "type": "string"
            },
            "text/plain": [
              "'\\n이 안에 포함된 내용이 블록 주석\\n'"
            ]
          },
          "metadata": {
            "tags": []
          },
          "execution_count": 10
        }
      ]
    },
    {
      "cell_type": "markdown",
      "metadata": {
        "id": "Iop9vOKEiefz"
      },
      "source": [
        "## 4.3 들여쓰기 (Indentation)"
      ]
    },
    {
      "cell_type": "code",
      "metadata": {
        "colab": {
          "base_uri": "https://localhost:8080/",
          "height": 35
        },
        "id": "UmclOljbifC8",
        "outputId": "d685f527-9b44-4214-a553-8dcfe7ba05d6"
      },
      "source": [
        "\"\"\" C 프로그래밍 예\n",
        "sum = 0;\n",
        "for (i=1; i<=10; i++){\n",
        "  sum += i;\n",
        "}\n",
        "printf(sum);\n",
        "\"\"\""
      ],
      "execution_count": 12,
      "outputs": [
        {
          "output_type": "execute_result",
          "data": {
            "application/vnd.google.colaboratory.intrinsic+json": {
              "type": "string"
            },
            "text/plain": [
              "' C 프로그래밍 예\\nsum = 0;\\nfor (i=1; i<=10; i++){\\n  sum += i;\\n}\\nprintf(sum);\\n'"
            ]
          },
          "metadata": {
            "tags": []
          },
          "execution_count": 12
        }
      ]
    },
    {
      "cell_type": "code",
      "metadata": {
        "colab": {
          "base_uri": "https://localhost:8080/"
        },
        "id": "h7CQE18HjKeS",
        "outputId": "65eb07e0-c63e-4bff-f35d-191439982408"
      },
      "source": [
        "# 파이썬 예\n",
        "sum = 0\n",
        "for i in range(1,11):\n",
        "  sum += i\n",
        "print(sum)"
      ],
      "execution_count": 13,
      "outputs": [
        {
          "output_type": "stream",
          "text": [
            "55\n"
          ],
          "name": "stdout"
        }
      ]
    },
    {
      "cell_type": "code",
      "metadata": {
        "colab": {
          "base_uri": "https://localhost:8080/"
        },
        "id": "Ra52qvhyjfXC",
        "outputId": "e504128c-0c98-4fec-8f2c-538fdd0561bf"
      },
      "source": [
        "# 기본 공백 : 공백4개 , 탭 / 백탭(Shift + TAB)\n",
        "sum = 0\n",
        "for i in range(1,11):\n",
        "  sum += i\n",
        "  if(i>9):\n",
        "    print(i)\n",
        "print(sum)"
      ],
      "execution_count": 19,
      "outputs": [
        {
          "output_type": "stream",
          "text": [
            "10\n",
            "55\n"
          ],
          "name": "stdout"
        }
      ]
    },
    {
      "cell_type": "code",
      "metadata": {
        "id": "B0-HHb6UkKaa"
      },
      "source": [
        ""
      ],
      "execution_count": null,
      "outputs": []
    }
  ]
}