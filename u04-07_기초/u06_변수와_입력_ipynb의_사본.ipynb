{
  "nbformat": 4,
  "nbformat_minor": 0,
  "metadata": {
    "colab": {
      "name": "u06_변수와 입력.ipynb의 사본",
      "provenance": [],
      "collapsed_sections": [],
      "toc_visible": true
    },
    "kernelspec": {
      "name": "python3",
      "display_name": "Python 3"
    },
    "language_info": {
      "name": "python"
    }
  },
  "cells": [
    {
      "cell_type": "markdown",
      "metadata": {
        "id": "6suKZy5lM_1v"
      },
      "source": [
        "# Unit 6. 변수와 입력"
      ]
    },
    {
      "cell_type": "markdown",
      "metadata": {
        "id": "9Y1wZzqnNGJC"
      },
      "source": [
        "## 6.1 변수\n",
        "- 영문 문자와 숫자를 사용할 수 있습니다.\n",
        "- 대소문자를 구분합니다.\n",
        "- 문자부터 시작해야 하며 숫자부터 시작하면 안 됩니다.\n",
        "- _(밑줄 문자)로 시작할 수 있습니다.\n",
        "- 특수 문자(+, -, *, /, $, @, &, % 등)는 사용할 수 없습니다.\n",
        "- 파이썬의 키워드(if, for, while, and, or 등)는 사용할 수 없습니다."
      ]
    },
    {
      "cell_type": "code",
      "metadata": {
        "colab": {
          "base_uri": "https://localhost:8080/"
        },
        "id": "qlFCDkSeNFc3",
        "outputId": "96e3992b-79ce-4471-eced-96e3af6f3940"
      },
      "source": [
        "x = 10\n",
        "x"
      ],
      "execution_count": null,
      "outputs": [
        {
          "output_type": "execute_result",
          "data": {
            "text/plain": [
              "10"
            ]
          },
          "metadata": {
            "tags": []
          },
          "execution_count": 1
        }
      ]
    },
    {
      "cell_type": "code",
      "metadata": {
        "colab": {
          "base_uri": "https://localhost:8080/",
          "height": 35
        },
        "id": "ojjDn2UGNzHT",
        "outputId": "48f250f9-8225-4b48-da92-d81b6031f998"
      },
      "source": [
        "s= 'Hello world!'\n",
        "s"
      ],
      "execution_count": null,
      "outputs": [
        {
          "output_type": "execute_result",
          "data": {
            "application/vnd.google.colaboratory.intrinsic+json": {
              "type": "string"
            },
            "text/plain": [
              "'Hello world!'"
            ]
          },
          "metadata": {
            "tags": []
          },
          "execution_count": 2
        }
      ]
    },
    {
      "cell_type": "code",
      "metadata": {
        "colab": {
          "base_uri": "https://localhost:8080/"
        },
        "id": "JiRcAghNN1-q",
        "outputId": "c71678f6-9bac-4e9b-a23a-87af83fecab9"
      },
      "source": [
        "type(x) , type(s)"
      ],
      "execution_count": null,
      "outputs": [
        {
          "output_type": "execute_result",
          "data": {
            "text/plain": [
              "(int, str)"
            ]
          },
          "metadata": {
            "tags": []
          },
          "execution_count": 4
        }
      ]
    },
    {
      "cell_type": "code",
      "metadata": {
        "colab": {
          "base_uri": "https://localhost:8080/"
        },
        "id": "46vQ6P6SN4Qx",
        "outputId": "935becbd-32c7-4809-8e8c-786e52997e28"
      },
      "source": [
        "x,y,z = 10,20,30\n",
        "x,y,z"
      ],
      "execution_count": null,
      "outputs": [
        {
          "output_type": "execute_result",
          "data": {
            "text/plain": [
              "(10, 20, 30)"
            ]
          },
          "metadata": {
            "tags": []
          },
          "execution_count": 5
        }
      ]
    },
    {
      "cell_type": "code",
      "metadata": {
        "colab": {
          "base_uri": "https://localhost:8080/"
        },
        "id": "tk0sF0utN8bN",
        "outputId": "a777df55-6412-4db1-c1ef-2438e88512ef"
      },
      "source": [
        "x=y=z=10\n",
        "x,y,z"
      ],
      "execution_count": null,
      "outputs": [
        {
          "output_type": "execute_result",
          "data": {
            "text/plain": [
              "(10, 10, 10)"
            ]
          },
          "metadata": {
            "tags": []
          },
          "execution_count": 6
        }
      ]
    },
    {
      "cell_type": "code",
      "metadata": {
        "colab": {
          "base_uri": "https://localhost:8080/",
          "height": 181
        },
        "id": "5zqebTjhN-hH",
        "outputId": "8b98c44f-d1ac-483b-e8ba-9cff61a41ea5"
      },
      "source": [
        "del z\n",
        "print(z)"
      ],
      "execution_count": null,
      "outputs": [
        {
          "output_type": "error",
          "ename": "NameError",
          "evalue": "ignored",
          "traceback": [
            "\u001b[0;31m---------------------------------------------------------------------------\u001b[0m",
            "\u001b[0;31mNameError\u001b[0m                                 Traceback (most recent call last)",
            "\u001b[0;32m<ipython-input-7-8f47a1d0824e>\u001b[0m in \u001b[0;36m<module>\u001b[0;34m()\u001b[0m\n\u001b[1;32m      1\u001b[0m \u001b[0;32mdel\u001b[0m \u001b[0mz\u001b[0m\u001b[0;34m\u001b[0m\u001b[0;34m\u001b[0m\u001b[0m\n\u001b[0;32m----> 2\u001b[0;31m \u001b[0mprint\u001b[0m\u001b[0;34m(\u001b[0m\u001b[0mz\u001b[0m\u001b[0;34m)\u001b[0m\u001b[0;34m\u001b[0m\u001b[0;34m\u001b[0m\u001b[0m\n\u001b[0m",
            "\u001b[0;31mNameError\u001b[0m: name 'z' is not defined"
          ]
        }
      ]
    },
    {
      "cell_type": "code",
      "metadata": {
        "colab": {
          "base_uri": "https://localhost:8080/"
        },
        "id": "9HII2Bj3OADj",
        "outputId": "379a5e5a-30dd-4dce-8dac-c5d3ac7491f9"
      },
      "source": [
        "x = None\n",
        "print(x)"
      ],
      "execution_count": null,
      "outputs": [
        {
          "output_type": "stream",
          "text": [
            "None\n"
          ],
          "name": "stdout"
        }
      ]
    },
    {
      "cell_type": "code",
      "metadata": {
        "id": "Y1qUyBIdONIk"
      },
      "source": [
        "x"
      ],
      "execution_count": null,
      "outputs": []
    },
    {
      "cell_type": "markdown",
      "metadata": {
        "id": "hXvcMjrwOm9Z"
      },
      "source": [
        "## 6.2 변수로 계산"
      ]
    },
    {
      "cell_type": "code",
      "metadata": {
        "colab": {
          "base_uri": "https://localhost:8080/"
        },
        "id": "kvnz_o5XOpHY",
        "outputId": "8a776a9c-7141-40cf-ac6b-7e9d540349bb"
      },
      "source": [
        "a = 10\n",
        "a = a + 10\n",
        "a"
      ],
      "execution_count": null,
      "outputs": [
        {
          "output_type": "execute_result",
          "data": {
            "text/plain": [
              "20"
            ]
          },
          "metadata": {
            "tags": []
          },
          "execution_count": 10
        }
      ]
    },
    {
      "cell_type": "code",
      "metadata": {
        "colab": {
          "base_uri": "https://localhost:8080/"
        },
        "id": "VyyFITiFPC4n",
        "outputId": "262a4e84-d9b8-4531-df82-36ae1a78dd7e"
      },
      "source": [
        "a = 10\n",
        "a += 10 # a = a +10\n",
        "a"
      ],
      "execution_count": null,
      "outputs": [
        {
          "output_type": "execute_result",
          "data": {
            "text/plain": [
              "20"
            ]
          },
          "metadata": {
            "tags": []
          },
          "execution_count": 11
        }
      ]
    },
    {
      "cell_type": "code",
      "metadata": {
        "colab": {
          "base_uri": "https://localhost:8080/"
        },
        "id": "86kZYmVtPHeS",
        "outputId": "c3e14f74-a593-40fa-805f-6c62f0769603"
      },
      "source": [
        "sum, prod = 0,1\n",
        "for i in range(1,11):\n",
        "  sum += i\n",
        "  prod *= i\n",
        "sum, prod"
      ],
      "execution_count": null,
      "outputs": [
        {
          "output_type": "execute_result",
          "data": {
            "text/plain": [
              "(55, 3628800)"
            ]
          },
          "metadata": {
            "tags": []
          },
          "execution_count": 14
        }
      ]
    },
    {
      "cell_type": "code",
      "metadata": {
        "colab": {
          "base_uri": "https://localhost:8080/"
        },
        "id": "GqtOnBuTPlSq",
        "outputId": "eb425e6c-98e6-4dea-aec9-43aef659e72d"
      },
      "source": [
        "-prod"
      ],
      "execution_count": null,
      "outputs": [
        {
          "output_type": "execute_result",
          "data": {
            "text/plain": [
              "-3628800"
            ]
          },
          "metadata": {
            "tags": []
          },
          "execution_count": 15
        }
      ]
    },
    {
      "cell_type": "markdown",
      "metadata": {
        "id": "rsmXwD4wQMOO"
      },
      "source": [
        "## 6.3 입력(input)"
      ]
    },
    {
      "cell_type": "code",
      "metadata": {
        "colab": {
          "base_uri": "https://localhost:8080/"
        },
        "id": "I36xQik4QPBB",
        "outputId": "6467c087-6eb0-4f3f-c3bf-a343a5c3e239"
      },
      "source": [
        "x= input()"
      ],
      "execution_count": null,
      "outputs": [
        {
          "output_type": "stream",
          "text": [
            "Hello world!\n"
          ],
          "name": "stdout"
        }
      ]
    },
    {
      "cell_type": "code",
      "metadata": {
        "colab": {
          "base_uri": "https://localhost:8080/",
          "height": 35
        },
        "id": "vbt4gV4fQgYg",
        "outputId": "9757c956-2b92-4814-f1fb-0c7114334985"
      },
      "source": [
        "x"
      ],
      "execution_count": null,
      "outputs": [
        {
          "output_type": "execute_result",
          "data": {
            "application/vnd.google.colaboratory.intrinsic+json": {
              "type": "string"
            },
            "text/plain": [
              "'Hello world!'"
            ]
          },
          "metadata": {
            "tags": []
          },
          "execution_count": 17
        }
      ]
    },
    {
      "cell_type": "code",
      "metadata": {
        "colab": {
          "base_uri": "https://localhost:8080/"
        },
        "id": "ttqMwVHoQjsJ",
        "outputId": "a8f4ee16-148e-4af4-b447-4977f226f355"
      },
      "source": [
        "x = input('1에서 10사이의 정수값>') #prompt"
      ],
      "execution_count": null,
      "outputs": [
        {
          "output_type": "stream",
          "text": [
            "1에서 10사이의 정수값>7\n"
          ],
          "name": "stdout"
        }
      ]
    },
    {
      "cell_type": "code",
      "metadata": {
        "colab": {
          "base_uri": "https://localhost:8080/",
          "height": 69
        },
        "id": "itBCC03cRIhg",
        "outputId": "4d771ed6-218c-4866-dd86-98f4892fc0ac"
      },
      "source": [
        "# 입력한 두 정수의 합\n",
        "a = input('첫번째 정수 > ')\n",
        "b = input('두번째 정수 > ')\n",
        "a + b"
      ],
      "execution_count": null,
      "outputs": [
        {
          "output_type": "stream",
          "text": [
            "첫번째 정수 > 101\n",
            "두번째 정수 > 303\n"
          ],
          "name": "stdout"
        },
        {
          "output_type": "execute_result",
          "data": {
            "application/vnd.google.colaboratory.intrinsic+json": {
              "type": "string"
            },
            "text/plain": [
              "'101303'"
            ]
          },
          "metadata": {
            "tags": []
          },
          "execution_count": 21
        }
      ]
    },
    {
      "cell_type": "code",
      "metadata": {
        "colab": {
          "base_uri": "https://localhost:8080/"
        },
        "id": "OhpyC2QQRUAd",
        "outputId": "49a2c2dc-acc9-44db-e6b5-ca176acc48eb"
      },
      "source": [
        "a = input('첫번째 정수 > ')\n",
        "b = input('두번째 정수 > ')\n",
        "float(a) + float(b)"
      ],
      "execution_count": null,
      "outputs": [
        {
          "output_type": "stream",
          "text": [
            "첫번째 정수 > 101\n",
            "두번째 정수 > 303\n"
          ],
          "name": "stdout"
        },
        {
          "output_type": "execute_result",
          "data": {
            "text/plain": [
              "404.0"
            ]
          },
          "metadata": {
            "tags": []
          },
          "execution_count": 22
        }
      ]
    },
    {
      "cell_type": "code",
      "metadata": {
        "colab": {
          "base_uri": "https://localhost:8080/"
        },
        "id": "BM8SKRCSRgje",
        "outputId": "4b29c934-1984-460c-857b-038819883e76"
      },
      "source": [
        "type(a), type(b)"
      ],
      "execution_count": null,
      "outputs": [
        {
          "output_type": "execute_result",
          "data": {
            "text/plain": [
              "(str, str)"
            ]
          },
          "metadata": {
            "tags": []
          },
          "execution_count": 23
        }
      ]
    },
    {
      "cell_type": "code",
      "metadata": {
        "colab": {
          "base_uri": "https://localhost:8080/"
        },
        "id": "RDftdHtxRu7d",
        "outputId": "022069e2-2a59-4d7a-f6c3-4436d50cbf6c"
      },
      "source": [
        "a = input('첫번째 정수 > ')\n",
        "b = input('두번째 정수 > ')\n",
        "int(a) + int(b)"
      ],
      "execution_count": null,
      "outputs": [
        {
          "output_type": "stream",
          "text": [
            "첫번째 정수 > 101\n",
            "두번째 정수 > 303\n"
          ],
          "name": "stdout"
        },
        {
          "output_type": "execute_result",
          "data": {
            "text/plain": [
              "404"
            ]
          },
          "metadata": {
            "tags": []
          },
          "execution_count": 24
        }
      ]
    },
    {
      "cell_type": "code",
      "metadata": {
        "colab": {
          "base_uri": "https://localhost:8080/"
        },
        "id": "Tb5-E_tZRx6J",
        "outputId": "93d55aa3-7789-4a70-b346-57da49b9129d"
      },
      "source": [
        "a = int(input('첫번째 정수 > '))\n",
        "b = int(input('두번째 정수 > '))\n",
        "a + b"
      ],
      "execution_count": null,
      "outputs": [
        {
          "output_type": "stream",
          "text": [
            "첫번째 정수 > 101\n",
            "두번째 정수 > 303\n"
          ],
          "name": "stdout"
        },
        {
          "output_type": "execute_result",
          "data": {
            "text/plain": [
              "404"
            ]
          },
          "metadata": {
            "tags": []
          },
          "execution_count": 25
        }
      ]
    },
    {
      "cell_type": "code",
      "metadata": {
        "id": "O-xWHiiRR5oT"
      },
      "source": [
        ""
      ],
      "execution_count": null,
      "outputs": []
    }
  ]
}